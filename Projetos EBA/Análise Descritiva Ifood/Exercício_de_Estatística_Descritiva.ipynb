{
  "cells": [
    {
      "cell_type": "markdown",
      "metadata": {
        "id": "Bz4DeNIh1FLd"
      },
      "source": [
        "# Desafio Ifood | Módulo de Estatítica Descritiva\n",
        "### Estatística do Básico ao Avançado (EBA)"
      ]
    },
    {
      "cell_type": "markdown",
      "metadata": {
        "id": "dzm0tcJFydvo"
      },
      "source": [
        "**Descrição dos dados:**\n",
        "\n",
        "O conjunto de dados é composto por clientes da empresa Ifood com dados sobre:\n",
        "\n",
        "    Perfis de clientes\n",
        "    Preferências do produto\n",
        "    Sucessos/fracassos da campanha\n",
        "    Desempenho do canal\n",
        "\n",
        "**Objetivo:**\n",
        "\n",
        "O objetivo nesse módulo é fazer uma análise exploratória dos dados fornecidos."
      ]
    },
    {
      "cell_type": "markdown",
      "metadata": {
        "id": "YG6d5Q3r3G0U"
      },
      "source": [
        "## **Importando as bibliotecas**"
      ]
    },
    {
      "cell_type": "code",
      "execution_count": 1,
      "metadata": {
        "id": "9iAgfzfJ3Ojp"
      },
      "outputs": [],
      "source": [
        "import pandas as pd\n",
        "import numpy as np\n",
        "import seaborn as sns\n",
        "from scipy.stats import skew\n",
        "import matplotlib.pyplot as plt\n",
        "from scipy.stats import norm, kurtosis\n",
        "from scipy.stats.mstats import variation"
      ]
    },
    {
      "cell_type": "markdown",
      "metadata": {
        "id": "L9IBt9iG9a7y"
      },
      "source": [
        "## **Importando o DataFrame**"
      ]
    },
    {
      "cell_type": "code",
      "execution_count": 16,
      "metadata": {
        "colab": {
          "base_uri": "https://localhost:8080/",
          "height": 488
        },
        "id": "cgpzt87MxVfR",
        "outputId": "9d5eb2d6-c485-47bc-9502-de84a17e9142"
      },
      "outputs": [
        {
          "data": {
            "text/html": [
              "<div>\n",
              "<style scoped>\n",
              "    .dataframe tbody tr th:only-of-type {\n",
              "        vertical-align: middle;\n",
              "    }\n",
              "\n",
              "    .dataframe tbody tr th {\n",
              "        vertical-align: top;\n",
              "    }\n",
              "\n",
              "    .dataframe thead th {\n",
              "        text-align: right;\n",
              "    }\n",
              "</style>\n",
              "<table border=\"1\" class=\"dataframe\">\n",
              "  <thead>\n",
              "    <tr style=\"text-align: right;\">\n",
              "      <th></th>\n",
              "      <th>index</th>\n",
              "      <th>Income</th>\n",
              "      <th>Kidhome</th>\n",
              "      <th>Teenhome</th>\n",
              "      <th>Recency</th>\n",
              "      <th>MntWines</th>\n",
              "      <th>MntFruits</th>\n",
              "      <th>MntMeatProducts</th>\n",
              "      <th>MntFishProducts</th>\n",
              "      <th>MntSweetProducts</th>\n",
              "      <th>...</th>\n",
              "      <th>education_Graduation</th>\n",
              "      <th>education_Master</th>\n",
              "      <th>education_PhD</th>\n",
              "      <th>MntTotal</th>\n",
              "      <th>MntRegularProds</th>\n",
              "      <th>AcceptedCmpOverall</th>\n",
              "      <th>marital_status</th>\n",
              "      <th>education_level</th>\n",
              "      <th>kids</th>\n",
              "      <th>expenses</th>\n",
              "    </tr>\n",
              "  </thead>\n",
              "  <tbody>\n",
              "    <tr>\n",
              "      <th>0</th>\n",
              "      <td>0</td>\n",
              "      <td>58138.0</td>\n",
              "      <td>0</td>\n",
              "      <td>0</td>\n",
              "      <td>58</td>\n",
              "      <td>635</td>\n",
              "      <td>88</td>\n",
              "      <td>546</td>\n",
              "      <td>172</td>\n",
              "      <td>88</td>\n",
              "      <td>...</td>\n",
              "      <td>3.0</td>\n",
              "      <td>NaN</td>\n",
              "      <td>NaN</td>\n",
              "      <td>1529</td>\n",
              "      <td>1441</td>\n",
              "      <td>0</td>\n",
              "      <td>Single</td>\n",
              "      <td>Graduation</td>\n",
              "      <td>0</td>\n",
              "      <td>1529</td>\n",
              "    </tr>\n",
              "    <tr>\n",
              "      <th>1</th>\n",
              "      <td>1</td>\n",
              "      <td>46344.0</td>\n",
              "      <td>1</td>\n",
              "      <td>1</td>\n",
              "      <td>38</td>\n",
              "      <td>11</td>\n",
              "      <td>1</td>\n",
              "      <td>6</td>\n",
              "      <td>2</td>\n",
              "      <td>1</td>\n",
              "      <td>...</td>\n",
              "      <td>3.0</td>\n",
              "      <td>NaN</td>\n",
              "      <td>NaN</td>\n",
              "      <td>21</td>\n",
              "      <td>15</td>\n",
              "      <td>0</td>\n",
              "      <td>Single</td>\n",
              "      <td>Graduation</td>\n",
              "      <td>2</td>\n",
              "      <td>21</td>\n",
              "    </tr>\n",
              "    <tr>\n",
              "      <th>2</th>\n",
              "      <td>2</td>\n",
              "      <td>71613.0</td>\n",
              "      <td>0</td>\n",
              "      <td>0</td>\n",
              "      <td>26</td>\n",
              "      <td>426</td>\n",
              "      <td>49</td>\n",
              "      <td>127</td>\n",
              "      <td>111</td>\n",
              "      <td>21</td>\n",
              "      <td>...</td>\n",
              "      <td>3.0</td>\n",
              "      <td>NaN</td>\n",
              "      <td>NaN</td>\n",
              "      <td>734</td>\n",
              "      <td>692</td>\n",
              "      <td>0</td>\n",
              "      <td>Together</td>\n",
              "      <td>Graduation</td>\n",
              "      <td>0</td>\n",
              "      <td>734</td>\n",
              "    </tr>\n",
              "    <tr>\n",
              "      <th>3</th>\n",
              "      <td>3</td>\n",
              "      <td>26646.0</td>\n",
              "      <td>1</td>\n",
              "      <td>0</td>\n",
              "      <td>26</td>\n",
              "      <td>11</td>\n",
              "      <td>4</td>\n",
              "      <td>20</td>\n",
              "      <td>10</td>\n",
              "      <td>3</td>\n",
              "      <td>...</td>\n",
              "      <td>3.0</td>\n",
              "      <td>NaN</td>\n",
              "      <td>NaN</td>\n",
              "      <td>48</td>\n",
              "      <td>43</td>\n",
              "      <td>0</td>\n",
              "      <td>Together</td>\n",
              "      <td>Graduation</td>\n",
              "      <td>1</td>\n",
              "      <td>48</td>\n",
              "    </tr>\n",
              "    <tr>\n",
              "      <th>4</th>\n",
              "      <td>4</td>\n",
              "      <td>58293.0</td>\n",
              "      <td>1</td>\n",
              "      <td>0</td>\n",
              "      <td>94</td>\n",
              "      <td>173</td>\n",
              "      <td>43</td>\n",
              "      <td>118</td>\n",
              "      <td>46</td>\n",
              "      <td>27</td>\n",
              "      <td>...</td>\n",
              "      <td>NaN</td>\n",
              "      <td>NaN</td>\n",
              "      <td>5.0</td>\n",
              "      <td>407</td>\n",
              "      <td>392</td>\n",
              "      <td>0</td>\n",
              "      <td>Married</td>\n",
              "      <td>PhD</td>\n",
              "      <td>1</td>\n",
              "      <td>407</td>\n",
              "    </tr>\n",
              "    <tr>\n",
              "      <th>...</th>\n",
              "      <td>...</td>\n",
              "      <td>...</td>\n",
              "      <td>...</td>\n",
              "      <td>...</td>\n",
              "      <td>...</td>\n",
              "      <td>...</td>\n",
              "      <td>...</td>\n",
              "      <td>...</td>\n",
              "      <td>...</td>\n",
              "      <td>...</td>\n",
              "      <td>...</td>\n",
              "      <td>...</td>\n",
              "      <td>...</td>\n",
              "      <td>...</td>\n",
              "      <td>...</td>\n",
              "      <td>...</td>\n",
              "      <td>...</td>\n",
              "      <td>...</td>\n",
              "      <td>...</td>\n",
              "      <td>...</td>\n",
              "      <td>...</td>\n",
              "    </tr>\n",
              "    <tr>\n",
              "      <th>2200</th>\n",
              "      <td>2200</td>\n",
              "      <td>61223.0</td>\n",
              "      <td>0</td>\n",
              "      <td>1</td>\n",
              "      <td>46</td>\n",
              "      <td>709</td>\n",
              "      <td>43</td>\n",
              "      <td>182</td>\n",
              "      <td>42</td>\n",
              "      <td>118</td>\n",
              "      <td>...</td>\n",
              "      <td>3.0</td>\n",
              "      <td>NaN</td>\n",
              "      <td>NaN</td>\n",
              "      <td>1094</td>\n",
              "      <td>847</td>\n",
              "      <td>0</td>\n",
              "      <td>Married</td>\n",
              "      <td>Graduation</td>\n",
              "      <td>1</td>\n",
              "      <td>1094</td>\n",
              "    </tr>\n",
              "    <tr>\n",
              "      <th>2201</th>\n",
              "      <td>2201</td>\n",
              "      <td>64014.0</td>\n",
              "      <td>2</td>\n",
              "      <td>1</td>\n",
              "      <td>56</td>\n",
              "      <td>406</td>\n",
              "      <td>0</td>\n",
              "      <td>30</td>\n",
              "      <td>0</td>\n",
              "      <td>0</td>\n",
              "      <td>...</td>\n",
              "      <td>NaN</td>\n",
              "      <td>NaN</td>\n",
              "      <td>5.0</td>\n",
              "      <td>436</td>\n",
              "      <td>428</td>\n",
              "      <td>1</td>\n",
              "      <td>Together</td>\n",
              "      <td>PhD</td>\n",
              "      <td>3</td>\n",
              "      <td>436</td>\n",
              "    </tr>\n",
              "    <tr>\n",
              "      <th>2202</th>\n",
              "      <td>2202</td>\n",
              "      <td>56981.0</td>\n",
              "      <td>0</td>\n",
              "      <td>0</td>\n",
              "      <td>91</td>\n",
              "      <td>908</td>\n",
              "      <td>48</td>\n",
              "      <td>217</td>\n",
              "      <td>32</td>\n",
              "      <td>12</td>\n",
              "      <td>...</td>\n",
              "      <td>3.0</td>\n",
              "      <td>NaN</td>\n",
              "      <td>NaN</td>\n",
              "      <td>1217</td>\n",
              "      <td>1193</td>\n",
              "      <td>1</td>\n",
              "      <td>Divorced</td>\n",
              "      <td>Graduation</td>\n",
              "      <td>0</td>\n",
              "      <td>1217</td>\n",
              "    </tr>\n",
              "    <tr>\n",
              "      <th>2203</th>\n",
              "      <td>2203</td>\n",
              "      <td>69245.0</td>\n",
              "      <td>0</td>\n",
              "      <td>1</td>\n",
              "      <td>8</td>\n",
              "      <td>428</td>\n",
              "      <td>30</td>\n",
              "      <td>214</td>\n",
              "      <td>80</td>\n",
              "      <td>30</td>\n",
              "      <td>...</td>\n",
              "      <td>NaN</td>\n",
              "      <td>4.0</td>\n",
              "      <td>NaN</td>\n",
              "      <td>782</td>\n",
              "      <td>721</td>\n",
              "      <td>0</td>\n",
              "      <td>Together</td>\n",
              "      <td>Master</td>\n",
              "      <td>1</td>\n",
              "      <td>782</td>\n",
              "    </tr>\n",
              "    <tr>\n",
              "      <th>2204</th>\n",
              "      <td>2204</td>\n",
              "      <td>52869.0</td>\n",
              "      <td>1</td>\n",
              "      <td>1</td>\n",
              "      <td>40</td>\n",
              "      <td>84</td>\n",
              "      <td>3</td>\n",
              "      <td>61</td>\n",
              "      <td>2</td>\n",
              "      <td>1</td>\n",
              "      <td>...</td>\n",
              "      <td>NaN</td>\n",
              "      <td>NaN</td>\n",
              "      <td>5.0</td>\n",
              "      <td>151</td>\n",
              "      <td>130</td>\n",
              "      <td>0</td>\n",
              "      <td>Married</td>\n",
              "      <td>PhD</td>\n",
              "      <td>2</td>\n",
              "      <td>151</td>\n",
              "    </tr>\n",
              "  </tbody>\n",
              "</table>\n",
              "<p>2205 rows × 44 columns</p>\n",
              "</div>"
            ],
            "text/plain": [
              "      index   Income  Kidhome  Teenhome  Recency  MntWines  MntFruits  \\\n",
              "0         0  58138.0        0         0       58       635         88   \n",
              "1         1  46344.0        1         1       38        11          1   \n",
              "2         2  71613.0        0         0       26       426         49   \n",
              "3         3  26646.0        1         0       26        11          4   \n",
              "4         4  58293.0        1         0       94       173         43   \n",
              "...     ...      ...      ...       ...      ...       ...        ...   \n",
              "2200   2200  61223.0        0         1       46       709         43   \n",
              "2201   2201  64014.0        2         1       56       406          0   \n",
              "2202   2202  56981.0        0         0       91       908         48   \n",
              "2203   2203  69245.0        0         1        8       428         30   \n",
              "2204   2204  52869.0        1         1       40        84          3   \n",
              "\n",
              "      MntMeatProducts  MntFishProducts  MntSweetProducts  ...  \\\n",
              "0                 546              172                88  ...   \n",
              "1                   6                2                 1  ...   \n",
              "2                 127              111                21  ...   \n",
              "3                  20               10                 3  ...   \n",
              "4                 118               46                27  ...   \n",
              "...               ...              ...               ...  ...   \n",
              "2200              182               42               118  ...   \n",
              "2201               30                0                 0  ...   \n",
              "2202              217               32                12  ...   \n",
              "2203              214               80                30  ...   \n",
              "2204               61                2                 1  ...   \n",
              "\n",
              "      education_Graduation  education_Master  education_PhD  MntTotal  \\\n",
              "0                      3.0               NaN            NaN      1529   \n",
              "1                      3.0               NaN            NaN        21   \n",
              "2                      3.0               NaN            NaN       734   \n",
              "3                      3.0               NaN            NaN        48   \n",
              "4                      NaN               NaN            5.0       407   \n",
              "...                    ...               ...            ...       ...   \n",
              "2200                   3.0               NaN            NaN      1094   \n",
              "2201                   NaN               NaN            5.0       436   \n",
              "2202                   3.0               NaN            NaN      1217   \n",
              "2203                   NaN               4.0            NaN       782   \n",
              "2204                   NaN               NaN            5.0       151   \n",
              "\n",
              "      MntRegularProds  AcceptedCmpOverall  marital_status  education_level  \\\n",
              "0                1441                   0          Single       Graduation   \n",
              "1                  15                   0          Single       Graduation   \n",
              "2                 692                   0        Together       Graduation   \n",
              "3                  43                   0        Together       Graduation   \n",
              "4                 392                   0         Married              PhD   \n",
              "...               ...                 ...             ...              ...   \n",
              "2200              847                   0         Married       Graduation   \n",
              "2201              428                   1        Together              PhD   \n",
              "2202             1193                   1        Divorced       Graduation   \n",
              "2203              721                   0        Together           Master   \n",
              "2204              130                   0         Married              PhD   \n",
              "\n",
              "      kids  expenses  \n",
              "0        0      1529  \n",
              "1        2        21  \n",
              "2        0       734  \n",
              "3        1        48  \n",
              "4        1       407  \n",
              "...    ...       ...  \n",
              "2200     1      1094  \n",
              "2201     3       436  \n",
              "2202     0      1217  \n",
              "2203     1       782  \n",
              "2204     2       151  \n",
              "\n",
              "[2205 rows x 44 columns]"
            ]
          },
          "execution_count": 16,
          "metadata": {},
          "output_type": "execute_result"
        }
      ],
      "source": [
        "df = pd.read_csv(\"mkt_data.csv\")\n",
        "df.drop(\"Unnamed: 0\", axis = 1, inplace = True)\n",
        "df.reset_index(inplace=True)\n",
        "df"
      ]
    },
    {
      "attachments": {},
      "cell_type": "markdown",
      "metadata": {
        "id": "d4vjtz-y9lrV"
      },
      "source": [
        "## **Análise Exploratória dos Dados:**\n",
        "- Quantos dados temos? *```Linhas e colunas```*\n",
        "- Quais são as colunas numéricas?\n",
        "- Temos duplicados na nossa base? *```Se tivermos, retire-os```*\n",
        "- Temos dados nulos nessa base? Será que eles indicam algo? *```O que fazer com eles?```*\n",
        "- Qual é a média, mediana, 25 percentil, 75 percentil, mínimo e máximo de cada uma das colunas numéricas?\n",
        "\n"
      ]
    },
    {
      "cell_type": "markdown",
      "metadata": {
        "id": "Go0g1q8c-owt"
      },
      "source": [
        "#### Quantos dados temos?"
      ]
    },
    {
      "cell_type": "code",
      "execution_count": 17,
      "metadata": {
        "colab": {
          "base_uri": "https://localhost:8080/"
        },
        "id": "MqgrjHRR9lSJ",
        "outputId": "f7664039-8928-4de3-c9b3-9c3991e21987"
      },
      "outputs": [
        {
          "data": {
            "text/plain": [
              "(2205, 44)"
            ]
          },
          "execution_count": 17,
          "metadata": {},
          "output_type": "execute_result"
        }
      ],
      "source": [
        "# Quantidade de linhas e colunas\n",
        "df.shape"
      ]
    },
    {
      "cell_type": "markdown",
      "metadata": {
        "id": "uItIF9tY-yqO"
      },
      "source": [
        "#### Quais são as colunas numéricas?\n",
        "Podemos dividir os tipos das colunas em númericas e categóricas. As colunas categóricas são aquelas formadas por object (...). Já as numéricas, que é a que queremos, é formada por 'float64', 'int64', 'float32', 'int32', 'float16', 'int16'"
      ]
    },
    {
      "cell_type": "code",
      "execution_count": 18,
      "metadata": {
        "colab": {
          "base_uri": "https://localhost:8080/"
        },
        "id": "n4Yn6Fv37qpa",
        "outputId": "eafee91e-7ca6-4e18-b8f7-3a0788c6587b"
      },
      "outputs": [
        {
          "data": {
            "text/html": [
              "<div>\n",
              "<style scoped>\n",
              "    .dataframe tbody tr th:only-of-type {\n",
              "        vertical-align: middle;\n",
              "    }\n",
              "\n",
              "    .dataframe tbody tr th {\n",
              "        vertical-align: top;\n",
              "    }\n",
              "\n",
              "    .dataframe thead th {\n",
              "        text-align: right;\n",
              "    }\n",
              "</style>\n",
              "<table border=\"1\" class=\"dataframe\">\n",
              "  <thead>\n",
              "    <tr style=\"text-align: right;\">\n",
              "      <th></th>\n",
              "      <th>0</th>\n",
              "    </tr>\n",
              "  </thead>\n",
              "  <tbody>\n",
              "    <tr>\n",
              "      <th>index</th>\n",
              "      <td>int64</td>\n",
              "    </tr>\n",
              "    <tr>\n",
              "      <th>Income</th>\n",
              "      <td>float64</td>\n",
              "    </tr>\n",
              "    <tr>\n",
              "      <th>Kidhome</th>\n",
              "      <td>int64</td>\n",
              "    </tr>\n",
              "    <tr>\n",
              "      <th>Teenhome</th>\n",
              "      <td>int64</td>\n",
              "    </tr>\n",
              "    <tr>\n",
              "      <th>Recency</th>\n",
              "      <td>int64</td>\n",
              "    </tr>\n",
              "    <tr>\n",
              "      <th>MntWines</th>\n",
              "      <td>int64</td>\n",
              "    </tr>\n",
              "    <tr>\n",
              "      <th>MntFruits</th>\n",
              "      <td>int64</td>\n",
              "    </tr>\n",
              "    <tr>\n",
              "      <th>MntMeatProducts</th>\n",
              "      <td>int64</td>\n",
              "    </tr>\n",
              "    <tr>\n",
              "      <th>MntFishProducts</th>\n",
              "      <td>int64</td>\n",
              "    </tr>\n",
              "    <tr>\n",
              "      <th>MntSweetProducts</th>\n",
              "      <td>int64</td>\n",
              "    </tr>\n",
              "    <tr>\n",
              "      <th>MntGoldProds</th>\n",
              "      <td>int64</td>\n",
              "    </tr>\n",
              "    <tr>\n",
              "      <th>NumDealsPurchases</th>\n",
              "      <td>int64</td>\n",
              "    </tr>\n",
              "    <tr>\n",
              "      <th>NumWebPurchases</th>\n",
              "      <td>int64</td>\n",
              "    </tr>\n",
              "    <tr>\n",
              "      <th>NumCatalogPurchases</th>\n",
              "      <td>int64</td>\n",
              "    </tr>\n",
              "    <tr>\n",
              "      <th>NumStorePurchases</th>\n",
              "      <td>int64</td>\n",
              "    </tr>\n",
              "    <tr>\n",
              "      <th>NumWebVisitsMonth</th>\n",
              "      <td>int64</td>\n",
              "    </tr>\n",
              "    <tr>\n",
              "      <th>AcceptedCmp3</th>\n",
              "      <td>int64</td>\n",
              "    </tr>\n",
              "    <tr>\n",
              "      <th>AcceptedCmp4</th>\n",
              "      <td>int64</td>\n",
              "    </tr>\n",
              "    <tr>\n",
              "      <th>AcceptedCmp5</th>\n",
              "      <td>int64</td>\n",
              "    </tr>\n",
              "    <tr>\n",
              "      <th>AcceptedCmp1</th>\n",
              "      <td>int64</td>\n",
              "    </tr>\n",
              "    <tr>\n",
              "      <th>AcceptedCmp2</th>\n",
              "      <td>int64</td>\n",
              "    </tr>\n",
              "    <tr>\n",
              "      <th>Complain</th>\n",
              "      <td>int64</td>\n",
              "    </tr>\n",
              "    <tr>\n",
              "      <th>Z_CostContact</th>\n",
              "      <td>int64</td>\n",
              "    </tr>\n",
              "    <tr>\n",
              "      <th>Z_Revenue</th>\n",
              "      <td>int64</td>\n",
              "    </tr>\n",
              "    <tr>\n",
              "      <th>Response</th>\n",
              "      <td>int64</td>\n",
              "    </tr>\n",
              "    <tr>\n",
              "      <th>Age</th>\n",
              "      <td>int64</td>\n",
              "    </tr>\n",
              "    <tr>\n",
              "      <th>Customer_Days</th>\n",
              "      <td>int64</td>\n",
              "    </tr>\n",
              "    <tr>\n",
              "      <th>marital_Divorced</th>\n",
              "      <td>float64</td>\n",
              "    </tr>\n",
              "    <tr>\n",
              "      <th>marital_Married</th>\n",
              "      <td>float64</td>\n",
              "    </tr>\n",
              "    <tr>\n",
              "      <th>marital_Single</th>\n",
              "      <td>float64</td>\n",
              "    </tr>\n",
              "    <tr>\n",
              "      <th>marital_Together</th>\n",
              "      <td>float64</td>\n",
              "    </tr>\n",
              "    <tr>\n",
              "      <th>marital_Widow</th>\n",
              "      <td>float64</td>\n",
              "    </tr>\n",
              "    <tr>\n",
              "      <th>education_2n Cycle</th>\n",
              "      <td>float64</td>\n",
              "    </tr>\n",
              "    <tr>\n",
              "      <th>education_Basic</th>\n",
              "      <td>float64</td>\n",
              "    </tr>\n",
              "    <tr>\n",
              "      <th>education_Graduation</th>\n",
              "      <td>float64</td>\n",
              "    </tr>\n",
              "    <tr>\n",
              "      <th>education_Master</th>\n",
              "      <td>float64</td>\n",
              "    </tr>\n",
              "    <tr>\n",
              "      <th>education_PhD</th>\n",
              "      <td>float64</td>\n",
              "    </tr>\n",
              "    <tr>\n",
              "      <th>MntTotal</th>\n",
              "      <td>int64</td>\n",
              "    </tr>\n",
              "    <tr>\n",
              "      <th>MntRegularProds</th>\n",
              "      <td>int64</td>\n",
              "    </tr>\n",
              "    <tr>\n",
              "      <th>AcceptedCmpOverall</th>\n",
              "      <td>int64</td>\n",
              "    </tr>\n",
              "    <tr>\n",
              "      <th>marital_status</th>\n",
              "      <td>object</td>\n",
              "    </tr>\n",
              "    <tr>\n",
              "      <th>education_level</th>\n",
              "      <td>object</td>\n",
              "    </tr>\n",
              "    <tr>\n",
              "      <th>kids</th>\n",
              "      <td>int64</td>\n",
              "    </tr>\n",
              "    <tr>\n",
              "      <th>expenses</th>\n",
              "      <td>int64</td>\n",
              "    </tr>\n",
              "  </tbody>\n",
              "</table>\n",
              "</div>"
            ],
            "text/plain": [
              "                            0\n",
              "index                   int64\n",
              "Income                float64\n",
              "Kidhome                 int64\n",
              "Teenhome                int64\n",
              "Recency                 int64\n",
              "MntWines                int64\n",
              "MntFruits               int64\n",
              "MntMeatProducts         int64\n",
              "MntFishProducts         int64\n",
              "MntSweetProducts        int64\n",
              "MntGoldProds            int64\n",
              "NumDealsPurchases       int64\n",
              "NumWebPurchases         int64\n",
              "NumCatalogPurchases     int64\n",
              "NumStorePurchases       int64\n",
              "NumWebVisitsMonth       int64\n",
              "AcceptedCmp3            int64\n",
              "AcceptedCmp4            int64\n",
              "AcceptedCmp5            int64\n",
              "AcceptedCmp1            int64\n",
              "AcceptedCmp2            int64\n",
              "Complain                int64\n",
              "Z_CostContact           int64\n",
              "Z_Revenue               int64\n",
              "Response                int64\n",
              "Age                     int64\n",
              "Customer_Days           int64\n",
              "marital_Divorced      float64\n",
              "marital_Married       float64\n",
              "marital_Single        float64\n",
              "marital_Together      float64\n",
              "marital_Widow         float64\n",
              "education_2n Cycle    float64\n",
              "education_Basic       float64\n",
              "education_Graduation  float64\n",
              "education_Master      float64\n",
              "education_PhD         float64\n",
              "MntTotal                int64\n",
              "MntRegularProds         int64\n",
              "AcceptedCmpOverall      int64\n",
              "marital_status         object\n",
              "education_level        object\n",
              "kids                    int64\n",
              "expenses                int64"
            ]
          },
          "execution_count": 18,
          "metadata": {},
          "output_type": "execute_result"
        }
      ],
      "source": [
        "# Visualizando as colunas e seus respectivos tipos:\n",
        "pd.DataFrame(df.dtypes)"
      ]
    },
    {
      "cell_type": "code",
      "execution_count": 19,
      "metadata": {
        "colab": {
          "base_uri": "https://localhost:8080/"
        },
        "id": "VeUegSZwX0xX",
        "outputId": "237377ce-e8d7-4175-a4ba-bd8e7fad2b66"
      },
      "outputs": [
        {
          "data": {
            "text/plain": [
              "Index(['index', 'Income', 'Kidhome', 'Teenhome', 'Recency', 'MntWines',\n",
              "       'MntFruits', 'MntMeatProducts', 'MntFishProducts', 'MntSweetProducts',\n",
              "       'MntGoldProds', 'NumDealsPurchases', 'NumWebPurchases',\n",
              "       'NumCatalogPurchases', 'NumStorePurchases', 'NumWebVisitsMonth',\n",
              "       'AcceptedCmp3', 'AcceptedCmp4', 'AcceptedCmp5', 'AcceptedCmp1',\n",
              "       'AcceptedCmp2', 'Complain', 'Z_CostContact', 'Z_Revenue', 'Response',\n",
              "       'Age', 'Customer_Days', 'marital_Divorced', 'marital_Married',\n",
              "       'marital_Single', 'marital_Together', 'marital_Widow',\n",
              "       'education_2n Cycle', 'education_Basic', 'education_Graduation',\n",
              "       'education_Master', 'education_PhD', 'MntTotal', 'MntRegularProds',\n",
              "       'AcceptedCmpOverall', 'kids', 'expenses'],\n",
              "      dtype='object')"
            ]
          },
          "execution_count": 19,
          "metadata": {},
          "output_type": "execute_result"
        }
      ],
      "source": [
        "# Filtrando o DataFrame apenas com as colunas de valor numérico:\n",
        "\n",
        "numerics = ['float64', 'int64', 'float32', 'int32', 'float16', 'int16']\n",
        "df_numerics = df.select_dtypes(include = numerics).columns\n",
        "df_numerics"
      ]
    },
    {
      "cell_type": "markdown",
      "metadata": {
        "id": "8sJwhrJ9ZlsJ"
      },
      "source": [
        "#### Há duplicados na base?"
      ]
    },
    {
      "cell_type": "code",
      "execution_count": 23,
      "metadata": {
        "colab": {
          "base_uri": "https://localhost:8080/"
        },
        "id": "b_NOsjRnZqWM",
        "outputId": "860e9362-3ae2-41b8-8025-8627c4964df6"
      },
      "outputs": [
        {
          "data": {
            "text/plain": [
              "0"
            ]
          },
          "execution_count": 23,
          "metadata": {},
          "output_type": "execute_result"
        }
      ],
      "source": [
        "# Verificando a existência de duplicados:\n",
        "\n",
        "df.duplicated().sum()"
      ]
    },
    {
      "attachments": {},
      "cell_type": "markdown",
      "metadata": {
        "id": "DsIxhUv6Z6-U"
      },
      "source": [
        "Como não temos dados duplicados, não precisamos modificar a base"
      ]
    },
    {
      "cell_type": "markdown",
      "metadata": {
        "id": "0bfxYy3Eagcf"
      },
      "source": [
        "#### Temos dados nulos nessa base? Será que eles indicam algo? O que fazer com eles?"
      ]
    },
    {
      "cell_type": "code",
      "execution_count": 24,
      "metadata": {
        "colab": {
          "base_uri": "https://localhost:8080/"
        },
        "id": "9vlaQHZoahmV",
        "outputId": "007ebb4f-55a1-4bb4-cb98-45ecf122808d"
      },
      "outputs": [
        {
          "data": {
            "text/html": [
              "<div>\n",
              "<style scoped>\n",
              "    .dataframe tbody tr th:only-of-type {\n",
              "        vertical-align: middle;\n",
              "    }\n",
              "\n",
              "    .dataframe tbody tr th {\n",
              "        vertical-align: top;\n",
              "    }\n",
              "\n",
              "    .dataframe thead th {\n",
              "        text-align: right;\n",
              "    }\n",
              "</style>\n",
              "<table border=\"1\" class=\"dataframe\">\n",
              "  <thead>\n",
              "    <tr style=\"text-align: right;\">\n",
              "      <th></th>\n",
              "      <th>0</th>\n",
              "    </tr>\n",
              "  </thead>\n",
              "  <tbody>\n",
              "    <tr>\n",
              "      <th>index</th>\n",
              "      <td>0.000000</td>\n",
              "    </tr>\n",
              "    <tr>\n",
              "      <th>Income</th>\n",
              "      <td>0.000000</td>\n",
              "    </tr>\n",
              "    <tr>\n",
              "      <th>Kidhome</th>\n",
              "      <td>0.000000</td>\n",
              "    </tr>\n",
              "    <tr>\n",
              "      <th>Teenhome</th>\n",
              "      <td>0.000000</td>\n",
              "    </tr>\n",
              "    <tr>\n",
              "      <th>Recency</th>\n",
              "      <td>0.000000</td>\n",
              "    </tr>\n",
              "    <tr>\n",
              "      <th>MntWines</th>\n",
              "      <td>0.000000</td>\n",
              "    </tr>\n",
              "    <tr>\n",
              "      <th>MntFruits</th>\n",
              "      <td>0.000000</td>\n",
              "    </tr>\n",
              "    <tr>\n",
              "      <th>MntMeatProducts</th>\n",
              "      <td>0.000000</td>\n",
              "    </tr>\n",
              "    <tr>\n",
              "      <th>MntFishProducts</th>\n",
              "      <td>0.000000</td>\n",
              "    </tr>\n",
              "    <tr>\n",
              "      <th>MntSweetProducts</th>\n",
              "      <td>0.000000</td>\n",
              "    </tr>\n",
              "    <tr>\n",
              "      <th>MntGoldProds</th>\n",
              "      <td>0.000000</td>\n",
              "    </tr>\n",
              "    <tr>\n",
              "      <th>NumDealsPurchases</th>\n",
              "      <td>0.000000</td>\n",
              "    </tr>\n",
              "    <tr>\n",
              "      <th>NumWebPurchases</th>\n",
              "      <td>0.000000</td>\n",
              "    </tr>\n",
              "    <tr>\n",
              "      <th>NumCatalogPurchases</th>\n",
              "      <td>0.000000</td>\n",
              "    </tr>\n",
              "    <tr>\n",
              "      <th>NumStorePurchases</th>\n",
              "      <td>0.000000</td>\n",
              "    </tr>\n",
              "    <tr>\n",
              "      <th>NumWebVisitsMonth</th>\n",
              "      <td>0.000000</td>\n",
              "    </tr>\n",
              "    <tr>\n",
              "      <th>AcceptedCmp3</th>\n",
              "      <td>0.000000</td>\n",
              "    </tr>\n",
              "    <tr>\n",
              "      <th>AcceptedCmp4</th>\n",
              "      <td>0.000000</td>\n",
              "    </tr>\n",
              "    <tr>\n",
              "      <th>AcceptedCmp5</th>\n",
              "      <td>0.000000</td>\n",
              "    </tr>\n",
              "    <tr>\n",
              "      <th>AcceptedCmp1</th>\n",
              "      <td>0.000000</td>\n",
              "    </tr>\n",
              "    <tr>\n",
              "      <th>AcceptedCmp2</th>\n",
              "      <td>0.000000</td>\n",
              "    </tr>\n",
              "    <tr>\n",
              "      <th>Complain</th>\n",
              "      <td>0.000000</td>\n",
              "    </tr>\n",
              "    <tr>\n",
              "      <th>Z_CostContact</th>\n",
              "      <td>0.000000</td>\n",
              "    </tr>\n",
              "    <tr>\n",
              "      <th>Z_Revenue</th>\n",
              "      <td>0.000000</td>\n",
              "    </tr>\n",
              "    <tr>\n",
              "      <th>Response</th>\n",
              "      <td>0.000000</td>\n",
              "    </tr>\n",
              "    <tr>\n",
              "      <th>Age</th>\n",
              "      <td>0.000000</td>\n",
              "    </tr>\n",
              "    <tr>\n",
              "      <th>Customer_Days</th>\n",
              "      <td>0.000000</td>\n",
              "    </tr>\n",
              "    <tr>\n",
              "      <th>marital_Divorced</th>\n",
              "      <td>0.895692</td>\n",
              "    </tr>\n",
              "    <tr>\n",
              "      <th>marital_Married</th>\n",
              "      <td>0.612698</td>\n",
              "    </tr>\n",
              "    <tr>\n",
              "      <th>marital_Single</th>\n",
              "      <td>0.783673</td>\n",
              "    </tr>\n",
              "    <tr>\n",
              "      <th>marital_Together</th>\n",
              "      <td>0.742404</td>\n",
              "    </tr>\n",
              "    <tr>\n",
              "      <th>marital_Widow</th>\n",
              "      <td>0.965533</td>\n",
              "    </tr>\n",
              "    <tr>\n",
              "      <th>education_2n Cycle</th>\n",
              "      <td>0.910204</td>\n",
              "    </tr>\n",
              "    <tr>\n",
              "      <th>education_Basic</th>\n",
              "      <td>0.975510</td>\n",
              "    </tr>\n",
              "    <tr>\n",
              "      <th>education_Graduation</th>\n",
              "      <td>0.495238</td>\n",
              "    </tr>\n",
              "    <tr>\n",
              "      <th>education_Master</th>\n",
              "      <td>0.834921</td>\n",
              "    </tr>\n",
              "    <tr>\n",
              "      <th>education_PhD</th>\n",
              "      <td>0.784127</td>\n",
              "    </tr>\n",
              "    <tr>\n",
              "      <th>MntTotal</th>\n",
              "      <td>0.000000</td>\n",
              "    </tr>\n",
              "    <tr>\n",
              "      <th>MntRegularProds</th>\n",
              "      <td>0.000000</td>\n",
              "    </tr>\n",
              "    <tr>\n",
              "      <th>AcceptedCmpOverall</th>\n",
              "      <td>0.000000</td>\n",
              "    </tr>\n",
              "    <tr>\n",
              "      <th>marital_status</th>\n",
              "      <td>0.000000</td>\n",
              "    </tr>\n",
              "    <tr>\n",
              "      <th>education_level</th>\n",
              "      <td>0.000000</td>\n",
              "    </tr>\n",
              "    <tr>\n",
              "      <th>kids</th>\n",
              "      <td>0.000000</td>\n",
              "    </tr>\n",
              "    <tr>\n",
              "      <th>expenses</th>\n",
              "      <td>0.000000</td>\n",
              "    </tr>\n",
              "  </tbody>\n",
              "</table>\n",
              "</div>"
            ],
            "text/plain": [
              "                             0\n",
              "index                 0.000000\n",
              "Income                0.000000\n",
              "Kidhome               0.000000\n",
              "Teenhome              0.000000\n",
              "Recency               0.000000\n",
              "MntWines              0.000000\n",
              "MntFruits             0.000000\n",
              "MntMeatProducts       0.000000\n",
              "MntFishProducts       0.000000\n",
              "MntSweetProducts      0.000000\n",
              "MntGoldProds          0.000000\n",
              "NumDealsPurchases     0.000000\n",
              "NumWebPurchases       0.000000\n",
              "NumCatalogPurchases   0.000000\n",
              "NumStorePurchases     0.000000\n",
              "NumWebVisitsMonth     0.000000\n",
              "AcceptedCmp3          0.000000\n",
              "AcceptedCmp4          0.000000\n",
              "AcceptedCmp5          0.000000\n",
              "AcceptedCmp1          0.000000\n",
              "AcceptedCmp2          0.000000\n",
              "Complain              0.000000\n",
              "Z_CostContact         0.000000\n",
              "Z_Revenue             0.000000\n",
              "Response              0.000000\n",
              "Age                   0.000000\n",
              "Customer_Days         0.000000\n",
              "marital_Divorced      0.895692\n",
              "marital_Married       0.612698\n",
              "marital_Single        0.783673\n",
              "marital_Together      0.742404\n",
              "marital_Widow         0.965533\n",
              "education_2n Cycle    0.910204\n",
              "education_Basic       0.975510\n",
              "education_Graduation  0.495238\n",
              "education_Master      0.834921\n",
              "education_PhD         0.784127\n",
              "MntTotal              0.000000\n",
              "MntRegularProds       0.000000\n",
              "AcceptedCmpOverall    0.000000\n",
              "marital_status        0.000000\n",
              "education_level       0.000000\n",
              "kids                  0.000000\n",
              "expenses              0.000000"
            ]
          },
          "execution_count": 24,
          "metadata": {},
          "output_type": "execute_result"
        }
      ],
      "source": [
        "# Verificando, percentualmente, a existência de nulos na base:\n",
        "\n",
        "pd.DataFrame(df.isnull().sum()/df.shape[0])"
      ]
    },
    {
      "attachments": {},
      "cell_type": "markdown",
      "metadata": {},
      "source": [
        "Ao identificarmos colunas com mais de 90% de dados nulos em um DataFrame, é comum considerarmos duas soluções:\n",
        "* Excluir as colunas com nulos ou com mais de 50% de nulos, por exemplo\n",
        "* Substituir esses valores pela moda ou média dos dados\n",
        "\n",
        "No entanto, essas ações podem ter impactos desconhecidos no resultado final da análise. Para tomar uma decisão mais assertiva, é fundamental analisar o comportamento dessas colunas dentro do próprio DataFrame e, a partir dessas observações, pensar em uma solução adequada."
      ]
    },
    {
      "cell_type": "code",
      "execution_count": 32,
      "metadata": {
        "colab": {
          "base_uri": "https://localhost:8080/"
        },
        "id": "l54VjsNmsJOs",
        "outputId": "1b32867e-f053-4c0b-cc34-ab57448224d2"
      },
      "outputs": [
        {
          "name": "stdout",
          "output_type": "stream",
          "text": [
            "Marital Divorced: 1.0    230\n",
            "Name: marital_Divorced, dtype: int64\n",
            "\n",
            "Marital Married: 5.0    854\n",
            "Name: marital_Married, dtype: int64\n",
            "\n",
            "Marital Single: 4.0    477\n",
            "Name: marital_Single, dtype: int64\n",
            "\n",
            "Marital Together: 3.0    568\n",
            "Name: marital_Together, dtype: int64\n",
            "\n",
            "Marital Widow: 2.0    76\n",
            "Name: marital_Widow, dtype: int64\n",
            "\n",
            "Education 2n Cycle: 1.0    198\n",
            "Name: education_2n Cycle, dtype: int64\n",
            "\n",
            "Education Basic: 2.0    54\n",
            "Name: education_Basic, dtype: int64\n",
            "\n",
            "Education Graduatin: 3.0    1113\n",
            "Name: education_Graduation, dtype: int64\n",
            "\n",
            "Education Master: 4.0    364\n",
            "Name: education_Master, dtype: int64\n",
            "\n",
            "Education PhD: 5.0    476\n",
            "Name: education_PhD, dtype: int64\n"
          ]
        }
      ],
      "source": [
        "# Visualizando o comportamento dos dados\n",
        "\n",
        "print(f'Marital Divorced: {df.marital_Divorced.value_counts()}\\n')\n",
        "print(f'Marital Married: {df.marital_Married.value_counts()}\\n')\n",
        "print(f'Marital Single: {df.marital_Single.value_counts()}\\n')\n",
        "print(f'Marital Together: {df.marital_Together.value_counts()}\\n')  \n",
        "print(f'Marital Widow: {df.marital_Widow.value_counts()}\\n')\n",
        "print(f\"Education 2n Cycle: {df['education_2n Cycle'].value_counts()}\\n\")\n",
        "print(f'Education Basic: {df.education_Basic.value_counts()}\\n')\n",
        "print(f'Education Graduatin: {df.education_Graduation.value_counts()}\\n')\n",
        "print(f'Education Master: {df.education_Master.value_counts()}\\n')\n",
        "print(f'Education PhD: {df.education_PhD.value_counts()}')"
      ]
    },
    {
      "attachments": {},
      "cell_type": "markdown",
      "metadata": {},
      "source": [
        "Durante a análise dos dados do DataFrame, foi observado que as colunas relacionadas ao grau de escolaridade e ao tipo de relacionamento apresentavam dois valores: nulos e um outro valor próprio, que poderiam ser interpretados como um \"booleano\" indicando a presença ou ausência de um determinado grau de escolaridade ou tipo de relacionamento. Para tratar esses valores nulo, pode-se adicionar novas colunas ao DataFrame, que referenciam as colunas em questão, e preenchê-las com 1 e 0, em que 1 indica a presença do valor e 0 indica a ausência do valor. Essa estratégia visa melhorar a precisão e completude das análises futuras e simplificar a manipulação desses dados."
      ]
    },
    {
      "cell_type": "code",
      "execution_count": 44,
      "metadata": {},
      "outputs": [
        {
          "data": {
            "text/html": [
              "<div>\n",
              "<style scoped>\n",
              "    .dataframe tbody tr th:only-of-type {\n",
              "        vertical-align: middle;\n",
              "    }\n",
              "\n",
              "    .dataframe tbody tr th {\n",
              "        vertical-align: top;\n",
              "    }\n",
              "\n",
              "    .dataframe thead th {\n",
              "        text-align: right;\n",
              "    }\n",
              "</style>\n",
              "<table border=\"1\" class=\"dataframe\">\n",
              "  <thead>\n",
              "    <tr style=\"text-align: right;\">\n",
              "      <th></th>\n",
              "      <th>index</th>\n",
              "      <th>Income</th>\n",
              "      <th>Kidhome</th>\n",
              "      <th>Teenhome</th>\n",
              "      <th>Recency</th>\n",
              "      <th>MntWines</th>\n",
              "      <th>MntFruits</th>\n",
              "      <th>MntMeatProducts</th>\n",
              "      <th>MntFishProducts</th>\n",
              "      <th>MntSweetProducts</th>\n",
              "      <th>...</th>\n",
              "      <th>has_marital_Divorced</th>\n",
              "      <th>has_marital_Married</th>\n",
              "      <th>has_marital_Single</th>\n",
              "      <th>has_marital_Together</th>\n",
              "      <th>has_marital_Widow</th>\n",
              "      <th>has_education_2n Cycle</th>\n",
              "      <th>has_education_Basic</th>\n",
              "      <th>has_education_Graduation</th>\n",
              "      <th>has_education_Master</th>\n",
              "      <th>has_education_PhD</th>\n",
              "    </tr>\n",
              "  </thead>\n",
              "  <tbody>\n",
              "    <tr>\n",
              "      <th>0</th>\n",
              "      <td>0</td>\n",
              "      <td>58138.0</td>\n",
              "      <td>0</td>\n",
              "      <td>0</td>\n",
              "      <td>58</td>\n",
              "      <td>635</td>\n",
              "      <td>88</td>\n",
              "      <td>546</td>\n",
              "      <td>172</td>\n",
              "      <td>88</td>\n",
              "      <td>...</td>\n",
              "      <td>0</td>\n",
              "      <td>0</td>\n",
              "      <td>1</td>\n",
              "      <td>0</td>\n",
              "      <td>0</td>\n",
              "      <td>0</td>\n",
              "      <td>0</td>\n",
              "      <td>1</td>\n",
              "      <td>0</td>\n",
              "      <td>0</td>\n",
              "    </tr>\n",
              "    <tr>\n",
              "      <th>1</th>\n",
              "      <td>1</td>\n",
              "      <td>46344.0</td>\n",
              "      <td>1</td>\n",
              "      <td>1</td>\n",
              "      <td>38</td>\n",
              "      <td>11</td>\n",
              "      <td>1</td>\n",
              "      <td>6</td>\n",
              "      <td>2</td>\n",
              "      <td>1</td>\n",
              "      <td>...</td>\n",
              "      <td>0</td>\n",
              "      <td>0</td>\n",
              "      <td>1</td>\n",
              "      <td>0</td>\n",
              "      <td>0</td>\n",
              "      <td>0</td>\n",
              "      <td>0</td>\n",
              "      <td>1</td>\n",
              "      <td>0</td>\n",
              "      <td>0</td>\n",
              "    </tr>\n",
              "    <tr>\n",
              "      <th>2</th>\n",
              "      <td>2</td>\n",
              "      <td>71613.0</td>\n",
              "      <td>0</td>\n",
              "      <td>0</td>\n",
              "      <td>26</td>\n",
              "      <td>426</td>\n",
              "      <td>49</td>\n",
              "      <td>127</td>\n",
              "      <td>111</td>\n",
              "      <td>21</td>\n",
              "      <td>...</td>\n",
              "      <td>0</td>\n",
              "      <td>0</td>\n",
              "      <td>0</td>\n",
              "      <td>1</td>\n",
              "      <td>0</td>\n",
              "      <td>0</td>\n",
              "      <td>0</td>\n",
              "      <td>1</td>\n",
              "      <td>0</td>\n",
              "      <td>0</td>\n",
              "    </tr>\n",
              "    <tr>\n",
              "      <th>3</th>\n",
              "      <td>3</td>\n",
              "      <td>26646.0</td>\n",
              "      <td>1</td>\n",
              "      <td>0</td>\n",
              "      <td>26</td>\n",
              "      <td>11</td>\n",
              "      <td>4</td>\n",
              "      <td>20</td>\n",
              "      <td>10</td>\n",
              "      <td>3</td>\n",
              "      <td>...</td>\n",
              "      <td>0</td>\n",
              "      <td>0</td>\n",
              "      <td>0</td>\n",
              "      <td>1</td>\n",
              "      <td>0</td>\n",
              "      <td>0</td>\n",
              "      <td>0</td>\n",
              "      <td>1</td>\n",
              "      <td>0</td>\n",
              "      <td>0</td>\n",
              "    </tr>\n",
              "    <tr>\n",
              "      <th>4</th>\n",
              "      <td>4</td>\n",
              "      <td>58293.0</td>\n",
              "      <td>1</td>\n",
              "      <td>0</td>\n",
              "      <td>94</td>\n",
              "      <td>173</td>\n",
              "      <td>43</td>\n",
              "      <td>118</td>\n",
              "      <td>46</td>\n",
              "      <td>27</td>\n",
              "      <td>...</td>\n",
              "      <td>0</td>\n",
              "      <td>1</td>\n",
              "      <td>0</td>\n",
              "      <td>0</td>\n",
              "      <td>0</td>\n",
              "      <td>0</td>\n",
              "      <td>0</td>\n",
              "      <td>0</td>\n",
              "      <td>0</td>\n",
              "      <td>1</td>\n",
              "    </tr>\n",
              "    <tr>\n",
              "      <th>...</th>\n",
              "      <td>...</td>\n",
              "      <td>...</td>\n",
              "      <td>...</td>\n",
              "      <td>...</td>\n",
              "      <td>...</td>\n",
              "      <td>...</td>\n",
              "      <td>...</td>\n",
              "      <td>...</td>\n",
              "      <td>...</td>\n",
              "      <td>...</td>\n",
              "      <td>...</td>\n",
              "      <td>...</td>\n",
              "      <td>...</td>\n",
              "      <td>...</td>\n",
              "      <td>...</td>\n",
              "      <td>...</td>\n",
              "      <td>...</td>\n",
              "      <td>...</td>\n",
              "      <td>...</td>\n",
              "      <td>...</td>\n",
              "      <td>...</td>\n",
              "    </tr>\n",
              "    <tr>\n",
              "      <th>2200</th>\n",
              "      <td>2200</td>\n",
              "      <td>61223.0</td>\n",
              "      <td>0</td>\n",
              "      <td>1</td>\n",
              "      <td>46</td>\n",
              "      <td>709</td>\n",
              "      <td>43</td>\n",
              "      <td>182</td>\n",
              "      <td>42</td>\n",
              "      <td>118</td>\n",
              "      <td>...</td>\n",
              "      <td>0</td>\n",
              "      <td>1</td>\n",
              "      <td>0</td>\n",
              "      <td>0</td>\n",
              "      <td>0</td>\n",
              "      <td>0</td>\n",
              "      <td>0</td>\n",
              "      <td>1</td>\n",
              "      <td>0</td>\n",
              "      <td>0</td>\n",
              "    </tr>\n",
              "    <tr>\n",
              "      <th>2201</th>\n",
              "      <td>2201</td>\n",
              "      <td>64014.0</td>\n",
              "      <td>2</td>\n",
              "      <td>1</td>\n",
              "      <td>56</td>\n",
              "      <td>406</td>\n",
              "      <td>0</td>\n",
              "      <td>30</td>\n",
              "      <td>0</td>\n",
              "      <td>0</td>\n",
              "      <td>...</td>\n",
              "      <td>0</td>\n",
              "      <td>0</td>\n",
              "      <td>0</td>\n",
              "      <td>1</td>\n",
              "      <td>0</td>\n",
              "      <td>0</td>\n",
              "      <td>0</td>\n",
              "      <td>0</td>\n",
              "      <td>0</td>\n",
              "      <td>1</td>\n",
              "    </tr>\n",
              "    <tr>\n",
              "      <th>2202</th>\n",
              "      <td>2202</td>\n",
              "      <td>56981.0</td>\n",
              "      <td>0</td>\n",
              "      <td>0</td>\n",
              "      <td>91</td>\n",
              "      <td>908</td>\n",
              "      <td>48</td>\n",
              "      <td>217</td>\n",
              "      <td>32</td>\n",
              "      <td>12</td>\n",
              "      <td>...</td>\n",
              "      <td>1</td>\n",
              "      <td>0</td>\n",
              "      <td>0</td>\n",
              "      <td>0</td>\n",
              "      <td>0</td>\n",
              "      <td>0</td>\n",
              "      <td>0</td>\n",
              "      <td>1</td>\n",
              "      <td>0</td>\n",
              "      <td>0</td>\n",
              "    </tr>\n",
              "    <tr>\n",
              "      <th>2203</th>\n",
              "      <td>2203</td>\n",
              "      <td>69245.0</td>\n",
              "      <td>0</td>\n",
              "      <td>1</td>\n",
              "      <td>8</td>\n",
              "      <td>428</td>\n",
              "      <td>30</td>\n",
              "      <td>214</td>\n",
              "      <td>80</td>\n",
              "      <td>30</td>\n",
              "      <td>...</td>\n",
              "      <td>0</td>\n",
              "      <td>0</td>\n",
              "      <td>0</td>\n",
              "      <td>1</td>\n",
              "      <td>0</td>\n",
              "      <td>0</td>\n",
              "      <td>0</td>\n",
              "      <td>0</td>\n",
              "      <td>1</td>\n",
              "      <td>0</td>\n",
              "    </tr>\n",
              "    <tr>\n",
              "      <th>2204</th>\n",
              "      <td>2204</td>\n",
              "      <td>52869.0</td>\n",
              "      <td>1</td>\n",
              "      <td>1</td>\n",
              "      <td>40</td>\n",
              "      <td>84</td>\n",
              "      <td>3</td>\n",
              "      <td>61</td>\n",
              "      <td>2</td>\n",
              "      <td>1</td>\n",
              "      <td>...</td>\n",
              "      <td>0</td>\n",
              "      <td>1</td>\n",
              "      <td>0</td>\n",
              "      <td>0</td>\n",
              "      <td>0</td>\n",
              "      <td>0</td>\n",
              "      <td>0</td>\n",
              "      <td>0</td>\n",
              "      <td>0</td>\n",
              "      <td>1</td>\n",
              "    </tr>\n",
              "  </tbody>\n",
              "</table>\n",
              "<p>2205 rows × 64 columns</p>\n",
              "</div>"
            ],
            "text/plain": [
              "      index   Income  Kidhome  Teenhome  Recency  MntWines  MntFruits  \\\n",
              "0         0  58138.0        0         0       58       635         88   \n",
              "1         1  46344.0        1         1       38        11          1   \n",
              "2         2  71613.0        0         0       26       426         49   \n",
              "3         3  26646.0        1         0       26        11          4   \n",
              "4         4  58293.0        1         0       94       173         43   \n",
              "...     ...      ...      ...       ...      ...       ...        ...   \n",
              "2200   2200  61223.0        0         1       46       709         43   \n",
              "2201   2201  64014.0        2         1       56       406          0   \n",
              "2202   2202  56981.0        0         0       91       908         48   \n",
              "2203   2203  69245.0        0         1        8       428         30   \n",
              "2204   2204  52869.0        1         1       40        84          3   \n",
              "\n",
              "      MntMeatProducts  MntFishProducts  MntSweetProducts  ...  \\\n",
              "0                 546              172                88  ...   \n",
              "1                   6                2                 1  ...   \n",
              "2                 127              111                21  ...   \n",
              "3                  20               10                 3  ...   \n",
              "4                 118               46                27  ...   \n",
              "...               ...              ...               ...  ...   \n",
              "2200              182               42               118  ...   \n",
              "2201               30                0                 0  ...   \n",
              "2202              217               32                12  ...   \n",
              "2203              214               80                30  ...   \n",
              "2204               61                2                 1  ...   \n",
              "\n",
              "      has_marital_Divorced  has_marital_Married  has_marital_Single  \\\n",
              "0                        0                    0                   1   \n",
              "1                        0                    0                   1   \n",
              "2                        0                    0                   0   \n",
              "3                        0                    0                   0   \n",
              "4                        0                    1                   0   \n",
              "...                    ...                  ...                 ...   \n",
              "2200                     0                    1                   0   \n",
              "2201                     0                    0                   0   \n",
              "2202                     1                    0                   0   \n",
              "2203                     0                    0                   0   \n",
              "2204                     0                    1                   0   \n",
              "\n",
              "      has_marital_Together  has_marital_Widow  has_education_2n Cycle  \\\n",
              "0                        0                  0                       0   \n",
              "1                        0                  0                       0   \n",
              "2                        1                  0                       0   \n",
              "3                        1                  0                       0   \n",
              "4                        0                  0                       0   \n",
              "...                    ...                ...                     ...   \n",
              "2200                     0                  0                       0   \n",
              "2201                     1                  0                       0   \n",
              "2202                     0                  0                       0   \n",
              "2203                     1                  0                       0   \n",
              "2204                     0                  0                       0   \n",
              "\n",
              "      has_education_Basic  has_education_Graduation  has_education_Master  \\\n",
              "0                       0                         1                     0   \n",
              "1                       0                         1                     0   \n",
              "2                       0                         1                     0   \n",
              "3                       0                         1                     0   \n",
              "4                       0                         0                     0   \n",
              "...                   ...                       ...                   ...   \n",
              "2200                    0                         1                     0   \n",
              "2201                    0                         0                     0   \n",
              "2202                    0                         1                     0   \n",
              "2203                    0                         0                     1   \n",
              "2204                    0                         0                     0   \n",
              "\n",
              "      has_education_PhD  \n",
              "0                     0  \n",
              "1                     0  \n",
              "2                     0  \n",
              "3                     0  \n",
              "4                     1  \n",
              "...                 ...  \n",
              "2200                  0  \n",
              "2201                  1  \n",
              "2202                  0  \n",
              "2203                  0  \n",
              "2204                  1  \n",
              "\n",
              "[2205 rows x 64 columns]"
            ]
          },
          "execution_count": 44,
          "metadata": {},
          "output_type": "execute_result"
        }
      ],
      "source": [
        "# Define as colunas nulas\n",
        "columns_null = df.columns[df.isnull().any()].to_list()\n",
        "\n",
        "# Criando um novo DataFrame apenas com valores booleanos\n",
        "for col in columns_null:\n",
        "  df_bool = pd.DataFrame(np.where(df[f'{col}'].notnull(), 1, 0), columns=[col])\n",
        "  df_bool = df_bool.add_prefix('has_')\n",
        "  df = pd.concat([df, df_bool], axis=1)\n",
        "  \n",
        "df"
      ]
    },
    {
      "attachments": {},
      "cell_type": "markdown",
      "metadata": {},
      "source": [
        "Após as modificações desejadas, as novas colunas foram adicionadas ao DataFrame, contendo os valores anteriormente ditos. Essas colunas podem fornecer informações adicionais ou insights importantes para a análise dos dados."
      ]
    },
    {
      "cell_type": "markdown",
      "metadata": {
        "id": "zEg8njB_2u6l"
      },
      "source": [
        "#### **Qual é a média, mediana, 25 percentil, 75 percentil, mínimo e máximo de cada uma das colunas numéricas?**"
      ]
    },
    {
      "cell_type": "markdown",
      "metadata": {
        "id": "5xPSAQFJ2x9s"
      },
      "source": [
        "Devemos lembrar que, anteriormente, havíamos separado um DataFrame entitulado de \"df_numerics\" apenas com as colunas numéricas. Dessa forma, utilizaremos essa informação para calcular os dados solicitados:"
      ]
    },
    {
      "cell_type": "code",
      "execution_count": 11,
      "metadata": {
        "colab": {
          "base_uri": "https://localhost:8080/",
          "height": 411
        },
        "id": "PuzjptV32xVh",
        "outputId": "ae3f3ace-9ce1-441f-f235-dafdc6788544"
      },
      "outputs": [
        {
          "data": {
            "text/html": [
              "<div>\n",
              "<style scoped>\n",
              "    .dataframe tbody tr th:only-of-type {\n",
              "        vertical-align: middle;\n",
              "    }\n",
              "\n",
              "    .dataframe tbody tr th {\n",
              "        vertical-align: top;\n",
              "    }\n",
              "\n",
              "    .dataframe thead th {\n",
              "        text-align: right;\n",
              "    }\n",
              "</style>\n",
              "<table border=\"1\" class=\"dataframe\">\n",
              "  <thead>\n",
              "    <tr style=\"text-align: right;\">\n",
              "      <th></th>\n",
              "      <th>Income</th>\n",
              "      <th>Kidhome</th>\n",
              "      <th>Teenhome</th>\n",
              "      <th>Recency</th>\n",
              "      <th>MntWines</th>\n",
              "      <th>MntFruits</th>\n",
              "      <th>MntMeatProducts</th>\n",
              "      <th>MntFishProducts</th>\n",
              "      <th>MntSweetProducts</th>\n",
              "      <th>MntGoldProds</th>\n",
              "      <th>...</th>\n",
              "      <th>education_2n Cycle</th>\n",
              "      <th>education_Basic</th>\n",
              "      <th>education_Graduation</th>\n",
              "      <th>education_Master</th>\n",
              "      <th>education_PhD</th>\n",
              "      <th>MntTotal</th>\n",
              "      <th>MntRegularProds</th>\n",
              "      <th>AcceptedCmpOverall</th>\n",
              "      <th>kids</th>\n",
              "      <th>expenses</th>\n",
              "    </tr>\n",
              "  </thead>\n",
              "  <tbody>\n",
              "    <tr>\n",
              "      <th>count</th>\n",
              "      <td>2021.000000</td>\n",
              "      <td>2021.000000</td>\n",
              "      <td>2021.000000</td>\n",
              "      <td>2021.000000</td>\n",
              "      <td>2021.000000</td>\n",
              "      <td>2021.000000</td>\n",
              "      <td>2021.000000</td>\n",
              "      <td>2021.000000</td>\n",
              "      <td>2021.000000</td>\n",
              "      <td>2021.000000</td>\n",
              "      <td>...</td>\n",
              "      <td>183.0</td>\n",
              "      <td>49.0</td>\n",
              "      <td>1015.0</td>\n",
              "      <td>335.0</td>\n",
              "      <td>439.0</td>\n",
              "      <td>2021.000000</td>\n",
              "      <td>2021.000000</td>\n",
              "      <td>2021.000000</td>\n",
              "      <td>2021.000000</td>\n",
              "      <td>2021.000000</td>\n",
              "    </tr>\n",
              "    <tr>\n",
              "      <th>mean</th>\n",
              "      <td>51687.258783</td>\n",
              "      <td>0.443345</td>\n",
              "      <td>0.509649</td>\n",
              "      <td>48.880752</td>\n",
              "      <td>306.492331</td>\n",
              "      <td>26.364671</td>\n",
              "      <td>166.059871</td>\n",
              "      <td>37.603662</td>\n",
              "      <td>27.268679</td>\n",
              "      <td>43.921821</td>\n",
              "      <td>...</td>\n",
              "      <td>1.0</td>\n",
              "      <td>2.0</td>\n",
              "      <td>3.0</td>\n",
              "      <td>4.0</td>\n",
              "      <td>5.0</td>\n",
              "      <td>563.789213</td>\n",
              "      <td>519.867392</td>\n",
              "      <td>0.302326</td>\n",
              "      <td>0.952994</td>\n",
              "      <td>563.789213</td>\n",
              "    </tr>\n",
              "    <tr>\n",
              "      <th>std</th>\n",
              "      <td>20713.046401</td>\n",
              "      <td>0.536196</td>\n",
              "      <td>0.546393</td>\n",
              "      <td>28.950917</td>\n",
              "      <td>337.603877</td>\n",
              "      <td>39.776518</td>\n",
              "      <td>219.869126</td>\n",
              "      <td>54.892196</td>\n",
              "      <td>41.575454</td>\n",
              "      <td>51.678211</td>\n",
              "      <td>...</td>\n",
              "      <td>0.0</td>\n",
              "      <td>0.0</td>\n",
              "      <td>0.0</td>\n",
              "      <td>0.0</td>\n",
              "      <td>0.0</td>\n",
              "      <td>576.775749</td>\n",
              "      <td>554.797857</td>\n",
              "      <td>0.680812</td>\n",
              "      <td>0.746123</td>\n",
              "      <td>576.775749</td>\n",
              "    </tr>\n",
              "    <tr>\n",
              "      <th>min</th>\n",
              "      <td>1730.000000</td>\n",
              "      <td>0.000000</td>\n",
              "      <td>0.000000</td>\n",
              "      <td>0.000000</td>\n",
              "      <td>0.000000</td>\n",
              "      <td>0.000000</td>\n",
              "      <td>0.000000</td>\n",
              "      <td>0.000000</td>\n",
              "      <td>0.000000</td>\n",
              "      <td>0.000000</td>\n",
              "      <td>...</td>\n",
              "      <td>1.0</td>\n",
              "      <td>2.0</td>\n",
              "      <td>3.0</td>\n",
              "      <td>4.0</td>\n",
              "      <td>5.0</td>\n",
              "      <td>4.000000</td>\n",
              "      <td>-283.000000</td>\n",
              "      <td>0.000000</td>\n",
              "      <td>0.000000</td>\n",
              "      <td>4.000000</td>\n",
              "    </tr>\n",
              "    <tr>\n",
              "      <th>25%</th>\n",
              "      <td>35416.000000</td>\n",
              "      <td>0.000000</td>\n",
              "      <td>0.000000</td>\n",
              "      <td>24.000000</td>\n",
              "      <td>24.000000</td>\n",
              "      <td>2.000000</td>\n",
              "      <td>16.000000</td>\n",
              "      <td>3.000000</td>\n",
              "      <td>1.000000</td>\n",
              "      <td>9.000000</td>\n",
              "      <td>...</td>\n",
              "      <td>1.0</td>\n",
              "      <td>2.0</td>\n",
              "      <td>3.0</td>\n",
              "      <td>4.0</td>\n",
              "      <td>5.0</td>\n",
              "      <td>55.000000</td>\n",
              "      <td>42.000000</td>\n",
              "      <td>0.000000</td>\n",
              "      <td>0.000000</td>\n",
              "      <td>55.000000</td>\n",
              "    </tr>\n",
              "    <tr>\n",
              "      <th>50%</th>\n",
              "      <td>51412.000000</td>\n",
              "      <td>0.000000</td>\n",
              "      <td>0.000000</td>\n",
              "      <td>49.000000</td>\n",
              "      <td>178.000000</td>\n",
              "      <td>8.000000</td>\n",
              "      <td>68.000000</td>\n",
              "      <td>12.000000</td>\n",
              "      <td>8.000000</td>\n",
              "      <td>25.000000</td>\n",
              "      <td>...</td>\n",
              "      <td>1.0</td>\n",
              "      <td>2.0</td>\n",
              "      <td>3.0</td>\n",
              "      <td>4.0</td>\n",
              "      <td>5.0</td>\n",
              "      <td>343.000000</td>\n",
              "      <td>288.000000</td>\n",
              "      <td>0.000000</td>\n",
              "      <td>1.000000</td>\n",
              "      <td>343.000000</td>\n",
              "    </tr>\n",
              "    <tr>\n",
              "      <th>75%</th>\n",
              "      <td>68274.000000</td>\n",
              "      <td>1.000000</td>\n",
              "      <td>1.000000</td>\n",
              "      <td>74.000000</td>\n",
              "      <td>507.000000</td>\n",
              "      <td>33.000000</td>\n",
              "      <td>230.000000</td>\n",
              "      <td>50.000000</td>\n",
              "      <td>34.000000</td>\n",
              "      <td>56.000000</td>\n",
              "      <td>...</td>\n",
              "      <td>1.0</td>\n",
              "      <td>2.0</td>\n",
              "      <td>3.0</td>\n",
              "      <td>4.0</td>\n",
              "      <td>5.0</td>\n",
              "      <td>964.000000</td>\n",
              "      <td>883.000000</td>\n",
              "      <td>0.000000</td>\n",
              "      <td>1.000000</td>\n",
              "      <td>964.000000</td>\n",
              "    </tr>\n",
              "    <tr>\n",
              "      <th>max</th>\n",
              "      <td>113734.000000</td>\n",
              "      <td>2.000000</td>\n",
              "      <td>2.000000</td>\n",
              "      <td>99.000000</td>\n",
              "      <td>1493.000000</td>\n",
              "      <td>199.000000</td>\n",
              "      <td>1725.000000</td>\n",
              "      <td>259.000000</td>\n",
              "      <td>262.000000</td>\n",
              "      <td>321.000000</td>\n",
              "      <td>...</td>\n",
              "      <td>1.0</td>\n",
              "      <td>2.0</td>\n",
              "      <td>3.0</td>\n",
              "      <td>4.0</td>\n",
              "      <td>5.0</td>\n",
              "      <td>2491.000000</td>\n",
              "      <td>2458.000000</td>\n",
              "      <td>4.000000</td>\n",
              "      <td>3.000000</td>\n",
              "      <td>2491.000000</td>\n",
              "    </tr>\n",
              "  </tbody>\n",
              "</table>\n",
              "<p>8 rows × 41 columns</p>\n",
              "</div>"
            ],
            "text/plain": [
              "              Income      Kidhome     Teenhome      Recency     MntWines  \\\n",
              "count    2021.000000  2021.000000  2021.000000  2021.000000  2021.000000   \n",
              "mean    51687.258783     0.443345     0.509649    48.880752   306.492331   \n",
              "std     20713.046401     0.536196     0.546393    28.950917   337.603877   \n",
              "min      1730.000000     0.000000     0.000000     0.000000     0.000000   \n",
              "25%     35416.000000     0.000000     0.000000    24.000000    24.000000   \n",
              "50%     51412.000000     0.000000     0.000000    49.000000   178.000000   \n",
              "75%     68274.000000     1.000000     1.000000    74.000000   507.000000   \n",
              "max    113734.000000     2.000000     2.000000    99.000000  1493.000000   \n",
              "\n",
              "         MntFruits  MntMeatProducts  MntFishProducts  MntSweetProducts  \\\n",
              "count  2021.000000      2021.000000      2021.000000       2021.000000   \n",
              "mean     26.364671       166.059871        37.603662         27.268679   \n",
              "std      39.776518       219.869126        54.892196         41.575454   \n",
              "min       0.000000         0.000000         0.000000          0.000000   \n",
              "25%       2.000000        16.000000         3.000000          1.000000   \n",
              "50%       8.000000        68.000000        12.000000          8.000000   \n",
              "75%      33.000000       230.000000        50.000000         34.000000   \n",
              "max     199.000000      1725.000000       259.000000        262.000000   \n",
              "\n",
              "       MntGoldProds  ...  education_2n Cycle  education_Basic  \\\n",
              "count   2021.000000  ...               183.0             49.0   \n",
              "mean      43.921821  ...                 1.0              2.0   \n",
              "std       51.678211  ...                 0.0              0.0   \n",
              "min        0.000000  ...                 1.0              2.0   \n",
              "25%        9.000000  ...                 1.0              2.0   \n",
              "50%       25.000000  ...                 1.0              2.0   \n",
              "75%       56.000000  ...                 1.0              2.0   \n",
              "max      321.000000  ...                 1.0              2.0   \n",
              "\n",
              "       education_Graduation  education_Master  education_PhD     MntTotal  \\\n",
              "count                1015.0             335.0          439.0  2021.000000   \n",
              "mean                    3.0               4.0            5.0   563.789213   \n",
              "std                     0.0               0.0            0.0   576.775749   \n",
              "min                     3.0               4.0            5.0     4.000000   \n",
              "25%                     3.0               4.0            5.0    55.000000   \n",
              "50%                     3.0               4.0            5.0   343.000000   \n",
              "75%                     3.0               4.0            5.0   964.000000   \n",
              "max                     3.0               4.0            5.0  2491.000000   \n",
              "\n",
              "       MntRegularProds  AcceptedCmpOverall         kids     expenses  \n",
              "count      2021.000000         2021.000000  2021.000000  2021.000000  \n",
              "mean        519.867392            0.302326     0.952994   563.789213  \n",
              "std         554.797857            0.680812     0.746123   576.775749  \n",
              "min        -283.000000            0.000000     0.000000     4.000000  \n",
              "25%          42.000000            0.000000     0.000000    55.000000  \n",
              "50%         288.000000            0.000000     1.000000   343.000000  \n",
              "75%         883.000000            0.000000     1.000000   964.000000  \n",
              "max        2458.000000            4.000000     3.000000  2491.000000  \n",
              "\n",
              "[8 rows x 41 columns]"
            ]
          },
          "execution_count": 11,
          "metadata": {},
          "output_type": "execute_result"
        }
      ],
      "source": [
        "df[df_numerics].describe()"
      ]
    },
    {
      "cell_type": "markdown",
      "metadata": {
        "id": "WsVFDHrj4p1a"
      },
      "source": [
        "## **Perfil de Clientes:**\n",
        "\n",
        "- Qual é o maior salário encontrado na nossa base? *```Veja na coluna Income```*\n",
        "- Qual é a distribuição de salário na nossa base? Temos clientes que ganham\n",
        "muito bem e outros que não ganham muito bem? *```Veja na coluna Income```*\n",
        "- Nossos clientes tem níveis de educação maiores ou menores? *```Veja na coluna\n",
        "education_level```*\n",
        "- Quantos clientes temos em cada estado civil? *```Veja na coluna marital_status```*"
      ]
    },
    {
      "cell_type": "markdown",
      "metadata": {
        "id": "JTjjD_Q04wEM"
      },
      "source": [
        "#### Qual é o maior salário encontrado na nossa base?"
      ]
    },
    {
      "cell_type": "code",
      "execution_count": 12,
      "metadata": {
        "colab": {
          "base_uri": "https://localhost:8080/"
        },
        "id": "yO-D8w4q5jdj",
        "outputId": "1c0c815b-496d-40db-f33c-e9cb683b26b9"
      },
      "outputs": [
        {
          "data": {
            "text/plain": [
              "113734.0"
            ]
          },
          "execution_count": 12,
          "metadata": {},
          "output_type": "execute_result"
        }
      ],
      "source": [
        "# Cálculo do maior salário\n",
        "\n",
        "df.Income.max()"
      ]
    },
    {
      "cell_type": "markdown",
      "metadata": {
        "id": "GPzZDSsY53i8"
      },
      "source": [
        "#### Qual é a distribuição de salário na nossa base? Temos clientes que ganham muito bem e outros que não ganham muito bem?\n",
        "\n",
        "Analisaremos a pergunta acima utilizando algumas medidas de tendência central e de dispersão"
      ]
    },
    {
      "cell_type": "markdown",
      "metadata": {
        "id": "bg50Vla4-K6T"
      },
      "source": [
        "1. Medidas de tendência central:"
      ]
    },
    {
      "cell_type": "code",
      "execution_count": 13,
      "metadata": {
        "colab": {
          "base_uri": "https://localhost:8080/"
        },
        "id": "fU4LWHzQ52LV",
        "outputId": "973ec744-f678-4a1f-9dc2-b474ec9e9c1c"
      },
      "outputs": [
        {
          "data": {
            "text/plain": [
              "count      2021.000000\n",
              "mean      51687.258783\n",
              "std       20713.046401\n",
              "min        1730.000000\n",
              "25%       35416.000000\n",
              "50%       51412.000000\n",
              "75%       68274.000000\n",
              "max      113734.000000\n",
              "Name: Income, dtype: float64"
            ]
          },
          "execution_count": 13,
          "metadata": {},
          "output_type": "execute_result"
        }
      ],
      "source": [
        "# Verificação da moda, média, mediana, quartis e percentis\n",
        "\n",
        "df.Income.describe()"
      ]
    },
    {
      "cell_type": "code",
      "execution_count": 14,
      "metadata": {
        "colab": {
          "base_uri": "https://localhost:8080/",
          "height": 266
        },
        "id": "f79n3asE8gZM",
        "outputId": "8c404b81-9fe7-4bde-8127-637d4cfd0a74"
      },
      "outputs": [
        {
          "data": {
            "text/plain": [
              "<AxesSubplot:ylabel='Income'>"
            ]
          },
          "execution_count": 14,
          "metadata": {},
          "output_type": "execute_result"
        },
        {
          "data": {
            "image/png": "[encoded data removed]",
            "text/plain": [
              "<Figure size 432x288 with 1 Axes>"
            ]
          },
          "metadata": {},
          "output_type": "display_data"
        }
      ],
      "source": [
        "# Análise do boxplot\n",
        "\n",
        "sns.set_theme(style=\"darkgrid\")\n",
        "sns.boxplot(data= df, y=\"Income\", color=\"blue\")"
      ]
    },
    {
      "cell_type": "code",
      "execution_count": 15,
      "metadata": {
        "colab": {
          "base_uri": "https://localhost:8080/",
          "height": 303
        },
        "id": "AGvC_s_z7KCN",
        "outputId": "5e8a2580-d879-4f8b-f7fe-ab93948e5118"
      },
      "outputs": [
        {
          "data": {
            "text/plain": [
              "<AxesSubplot:xlabel='Income', ylabel='Count'>"
            ]
          },
          "execution_count": 15,
          "metadata": {},
          "output_type": "execute_result"
        },
        {
          "data": {
            "image/png": "[encoded data removed]",
            "text/plain": [
              "<Figure size 432x288 with 1 Axes>"
            ]
          },
          "metadata": {},
          "output_type": "display_data"
        }
      ],
      "source": [
        "# Análise do histograma\n",
        "\n",
        "sns.set_theme(style=\"darkgrid\")\n",
        "sns.histplot(data=df, x=\"Income\", kde=True, color=\"blue\")"
      ]
    },
    {
      "cell_type": "markdown",
      "metadata": {
        "id": "bo30Iqd8-Oad"
      },
      "source": [
        "2. Medidas de dispersão:"
      ]
    },
    {
      "cell_type": "code",
      "execution_count": 16,
      "metadata": {
        "colab": {
          "base_uri": "https://localhost:8080/"
        },
        "id": "24a8KqzR96Ds",
        "outputId": "27cda230-ee2d-45f8-984d-87d4890b9aee"
      },
      "outputs": [
        {
          "name": "stdout",
          "output_type": "stream",
          "text": [
            "Valor da amplitude: 112004.0\n"
          ]
        }
      ],
      "source": [
        "# Verificação da amplitude\n",
        "\n",
        "amplitude = df.Income.max() - df.Income.min()\n",
        "print(f\"Valor da amplitude: {amplitude}\")"
      ]
    },
    {
      "cell_type": "code",
      "execution_count": 17,
      "metadata": {
        "colab": {
          "base_uri": "https://localhost:8080/"
        },
        "id": "ptA8PUdO-Ytz",
        "outputId": "eb08b4ce-0f82-4575-c0af-010cc2a607c2"
      },
      "outputs": [
        {
          "name": "stdout",
          "output_type": "stream",
          "text": [
            "Valor do coeficiente de variação: 40.063879957330926\n"
          ]
        }
      ],
      "source": [
        "# Verificação do coeficiente de variação\n",
        "\n",
        "coef_variacao = variation(df.Income)*100\n",
        "print(f\"Valor do coeficiente de variação: {coef_variacao}\")"
      ]
    },
    {
      "cell_type": "code",
      "execution_count": 18,
      "metadata": {
        "colab": {
          "base_uri": "https://localhost:8080/"
        },
        "id": "tlcpFS4uBOps",
        "outputId": "ac37bc0f-f56b-4455-ef30-26a645af28ef"
      },
      "outputs": [
        {
          "name": "stdout",
          "output_type": "stream",
          "text": [
            "Valor do Skew: 0.004353806218472682\n"
          ]
        }
      ],
      "source": [
        "# Skew\n",
        "\n",
        "valor_skew = skew(df.Income)\n",
        "print(f\"Valor do Skew: {valor_skew}\")"
      ]
    },
    {
      "cell_type": "code",
      "execution_count": 28,
      "metadata": {},
      "outputs": [
        {
          "data": {
            "image/png": "[encoded data removed]",
            "text/plain": [
              "<Figure size 432x288 with 1 Axes>"
            ]
          },
          "metadata": {},
          "output_type": "display_data"
        }
      ],
      "source": [
        "# Gráfico de skew\n",
        "\n",
        "# Calcula a skewness dos dados\n",
        "valor_skew = skew(df.Income)\n",
        "\n",
        "# Plota um histograma dos dados\n",
        "plt.hist(df.Income, bins=30)\n",
        "\n",
        "# Adiciona uma linha vertical indicando a posição da skewness\n",
        "plt.axvline(x=np.mean(df.Income) + valor_skew * np.std(df.Income), color='r', linestyle='--')\n",
        "\n",
        "# Configura o título e os rótulos dos eixos\n",
        "plt.title('Gráfico de Skewness')\n",
        "plt.xlabel('Income')\n",
        "plt.ylabel('Frequência')\n",
        "\n",
        "# Mostra o gráfico\n",
        "plt.show()"
      ]
    },
    {
      "cell_type": "code",
      "execution_count": 23,
      "metadata": {
        "colab": {
          "base_uri": "https://localhost:8080/"
        },
        "id": "C6AITtHvBP2c",
        "outputId": "8c6f7872-4a80-4ddf-d838-5e4a3b0d02f9"
      },
      "outputs": [
        {
          "name": "stdout",
          "output_type": "stream",
          "text": [
            "Valor da Kustosis: -0.8244973810504694\n"
          ]
        }
      ],
      "source": [
        "#Kurtosis\n",
        "\n",
        "valor_kurtosis = kurtosis(df.Income)\n",
        "print(f\"Valor da Kustosis: {valor_kurtosis}\")"
      ]
    },
    {
      "cell_type": "code",
      "execution_count": 26,
      "metadata": {},
      "outputs": [
        {
          "data": {
            "image/png": "[encoded data removed]",
            "text/plain": [
              "<Figure size 432x288 with 1 Axes>"
            ]
          },
          "metadata": {},
          "output_type": "display_data"
        }
      ],
      "source": [
        "# Gráfico kurtosis\n",
        "# Cálculo da kurtosis\n",
        "valor_kurtosis = kurtosis(df.Income)\n",
        "\n",
        "# Plota um gráfico com o valor da kurtosis\n",
        "plt.axvline(x=valor_kurtosis, color='r', linestyle='--')\n",
        "\n",
        "# Configura o título e os rótulos dos eixos\n",
        "plt.title('Gráfico de Kurtosis')\n",
        "plt.xlabel('Kurtosis')\n",
        "plt.ylabel('Frequência')\n",
        "\n",
        "# Mostra o gráfico\n",
        "plt.show()\n",
        "\n"
      ]
    },
    {
      "attachments": {},
      "cell_type": "markdown",
      "metadata": {},
      "source": [
        "#### Nossos clientes tem níveis de educação maiores ou menores?"
      ]
    },
    {
      "cell_type": "code",
      "execution_count": 34,
      "metadata": {},
      "outputs": [
        {
          "data": {
            "text/html": [
              "<div>\n",
              "<style scoped>\n",
              "    .dataframe tbody tr th:only-of-type {\n",
              "        vertical-align: middle;\n",
              "    }\n",
              "\n",
              "    .dataframe tbody tr th {\n",
              "        vertical-align: top;\n",
              "    }\n",
              "\n",
              "    .dataframe thead th {\n",
              "        text-align: right;\n",
              "    }\n",
              "</style>\n",
              "<table border=\"1\" class=\"dataframe\">\n",
              "  <thead>\n",
              "    <tr style=\"text-align: right;\">\n",
              "      <th></th>\n",
              "      <th>index</th>\n",
              "      <th>Count</th>\n",
              "      <th>Percent</th>\n",
              "    </tr>\n",
              "  </thead>\n",
              "  <tbody>\n",
              "    <tr>\n",
              "      <th>0</th>\n",
              "      <td>Graduation</td>\n",
              "      <td>1015</td>\n",
              "      <td>50.222662</td>\n",
              "    </tr>\n",
              "    <tr>\n",
              "      <th>1</th>\n",
              "      <td>PhD</td>\n",
              "      <td>439</td>\n",
              "      <td>21.721920</td>\n",
              "    </tr>\n",
              "    <tr>\n",
              "      <th>2</th>\n",
              "      <td>Master</td>\n",
              "      <td>335</td>\n",
              "      <td>16.575952</td>\n",
              "    </tr>\n",
              "    <tr>\n",
              "      <th>3</th>\n",
              "      <td>2n Cycle</td>\n",
              "      <td>183</td>\n",
              "      <td>9.054923</td>\n",
              "    </tr>\n",
              "    <tr>\n",
              "      <th>4</th>\n",
              "      <td>Basic</td>\n",
              "      <td>49</td>\n",
              "      <td>2.424542</td>\n",
              "    </tr>\n",
              "  </tbody>\n",
              "</table>\n",
              "</div>"
            ],
            "text/plain": [
              "        index  Count    Percent\n",
              "0  Graduation   1015  50.222662\n",
              "1         PhD    439  21.721920\n",
              "2      Master    335  16.575952\n",
              "3    2n Cycle    183   9.054923\n",
              "4       Basic     49   2.424542"
            ]
          },
          "execution_count": 34,
          "metadata": {},
          "output_type": "execute_result"
        }
      ],
      "source": [
        "df_education = pd.DataFrame({\n",
        "  'Count' : df.education_level.value_counts(),\n",
        "  'Percent' : df.education_level.value_counts() / len(df.education_level) * 100\n",
        "  }\n",
        ").reset_index(drop=False)\n",
        "\n",
        "df_education"
      ]
    },
    {
      "cell_type": "code",
      "execution_count": 35,
      "metadata": {},
      "outputs": [
        {
          "data": {
            "text/html": [
              "<div>\n",
              "<style scoped>\n",
              "    .dataframe tbody tr th:only-of-type {\n",
              "        vertical-align: middle;\n",
              "    }\n",
              "\n",
              "    .dataframe tbody tr th {\n",
              "        vertical-align: top;\n",
              "    }\n",
              "\n",
              "    .dataframe thead th {\n",
              "        text-align: right;\n",
              "    }\n",
              "</style>\n",
              "<table border=\"1\" class=\"dataframe\">\n",
              "  <thead>\n",
              "    <tr style=\"text-align: right;\">\n",
              "      <th></th>\n",
              "      <th>index</th>\n",
              "      <th>Count</th>\n",
              "      <th>Percent</th>\n",
              "      <th>Levels</th>\n",
              "    </tr>\n",
              "  </thead>\n",
              "  <tbody>\n",
              "    <tr>\n",
              "      <th>0</th>\n",
              "      <td>Graduation</td>\n",
              "      <td>1015</td>\n",
              "      <td>50.222662</td>\n",
              "      <td>high</td>\n",
              "    </tr>\n",
              "    <tr>\n",
              "      <th>1</th>\n",
              "      <td>PhD</td>\n",
              "      <td>439</td>\n",
              "      <td>21.721920</td>\n",
              "      <td>high</td>\n",
              "    </tr>\n",
              "    <tr>\n",
              "      <th>2</th>\n",
              "      <td>Master</td>\n",
              "      <td>335</td>\n",
              "      <td>16.575952</td>\n",
              "      <td>high</td>\n",
              "    </tr>\n",
              "    <tr>\n",
              "      <th>3</th>\n",
              "      <td>2n Cycle</td>\n",
              "      <td>183</td>\n",
              "      <td>9.054923</td>\n",
              "      <td>low</td>\n",
              "    </tr>\n",
              "    <tr>\n",
              "      <th>4</th>\n",
              "      <td>Basic</td>\n",
              "      <td>49</td>\n",
              "      <td>2.424542</td>\n",
              "      <td>low</td>\n",
              "    </tr>\n",
              "  </tbody>\n",
              "</table>\n",
              "</div>"
            ],
            "text/plain": [
              "        index  Count    Percent Levels\n",
              "0  Graduation   1015  50.222662   high\n",
              "1         PhD    439  21.721920   high\n",
              "2      Master    335  16.575952   high\n",
              "3    2n Cycle    183   9.054923    low\n",
              "4       Basic     49   2.424542    low"
            ]
          },
          "execution_count": 35,
          "metadata": {},
          "output_type": "execute_result"
        }
      ],
      "source": [
        "df_education['Levels'] = np.where((df_education['index'] == 'Basic') | (df_education['index'] == '2n Cycle'), 'low', 'high')\n",
        "df_education"
      ]
    },
    {
      "cell_type": "code",
      "execution_count": 36,
      "metadata": {},
      "outputs": [
        {
          "data": {
            "text/plain": [
              "<AxesSubplot:xlabel='Levels', ylabel='count'>"
            ]
          },
          "execution_count": 36,
          "metadata": {},
          "output_type": "execute_result"
        },
        {
          "data": {
            "image/png": "[encoded data removed]",
            "text/plain": [
              "<Figure size 432x288 with 1 Axes>"
            ]
          },
          "metadata": {},
          "output_type": "display_data"
        }
      ],
      "source": [
        "sns.set_theme(style=\"darkgrid\")\n",
        "sns.countplot(data=df_education, x=\"Levels\", order=df_education.Levels.value_counts().index)"
      ]
    },
    {
      "cell_type": "code",
      "execution_count": 40,
      "metadata": {},
      "outputs": [
        {
          "data": {
            "text/plain": [
              "[Text(0, 0, '1015'),\n",
              " Text(0, 0, '439'),\n",
              " Text(0, 0, '335'),\n",
              " Text(0, 0, '183'),\n",
              " Text(0, 0, '49')]"
            ]
          },
          "execution_count": 40,
          "metadata": {},
          "output_type": "execute_result"
        },
        {
          "data": {
            "image/png": "[encoded data removed]",
            "text/plain": [
              "<Figure size 432x288 with 1 Axes>"
            ]
          },
          "metadata": {},
          "output_type": "display_data"
        }
      ],
      "source": [
        "sns.set_theme(style=\"darkgrid\")\n",
        "ax = sns.countplot(data=df, x=\"education_level\", order=df.education_level.value_counts().index)\n",
        "ax.bar_label(container=ax.containers[0])"
      ]
    },
    {
      "attachments": {},
      "cell_type": "markdown",
      "metadata": {},
      "source": [
        "#### Quantos clientes temos em cada estado civil?"
      ]
    },
    {
      "cell_type": "code",
      "execution_count": 174,
      "metadata": {},
      "outputs": [
        {
          "data": {
            "text/html": [
              "<div>\n",
              "<style scoped>\n",
              "    .dataframe tbody tr th:only-of-type {\n",
              "        vertical-align: middle;\n",
              "    }\n",
              "\n",
              "    .dataframe tbody tr th {\n",
              "        vertical-align: top;\n",
              "    }\n",
              "\n",
              "    .dataframe thead th {\n",
              "        text-align: right;\n",
              "    }\n",
              "</style>\n",
              "<table border=\"1\" class=\"dataframe\">\n",
              "  <thead>\n",
              "    <tr style=\"text-align: right;\">\n",
              "      <th></th>\n",
              "      <th>index</th>\n",
              "      <th>Count</th>\n",
              "      <th>Percent</th>\n",
              "    </tr>\n",
              "  </thead>\n",
              "  <tbody>\n",
              "    <tr>\n",
              "      <th>0</th>\n",
              "      <td>Married</td>\n",
              "      <td>785</td>\n",
              "      <td>38.842157</td>\n",
              "    </tr>\n",
              "    <tr>\n",
              "      <th>1</th>\n",
              "      <td>Together</td>\n",
              "      <td>509</td>\n",
              "      <td>25.185552</td>\n",
              "    </tr>\n",
              "    <tr>\n",
              "      <th>2</th>\n",
              "      <td>Single</td>\n",
              "      <td>443</td>\n",
              "      <td>21.919842</td>\n",
              "    </tr>\n",
              "    <tr>\n",
              "      <th>3</th>\n",
              "      <td>Divorced</td>\n",
              "      <td>214</td>\n",
              "      <td>10.588817</td>\n",
              "    </tr>\n",
              "    <tr>\n",
              "      <th>4</th>\n",
              "      <td>Widow</td>\n",
              "      <td>70</td>\n",
              "      <td>3.463632</td>\n",
              "    </tr>\n",
              "  </tbody>\n",
              "</table>\n",
              "</div>"
            ],
            "text/plain": [
              "      index  Count    Percent\n",
              "0   Married    785  38.842157\n",
              "1  Together    509  25.185552\n",
              "2    Single    443  21.919842\n",
              "3  Divorced    214  10.588817\n",
              "4     Widow     70   3.463632"
            ]
          },
          "execution_count": 174,
          "metadata": {},
          "output_type": "execute_result"
        }
      ],
      "source": [
        "df_status = pd.DataFrame({\n",
        "  'Count' : df.marital_status.value_counts(),\n",
        "  'Percent' : df.marital_status.value_counts() / len(df.marital_status) * 100\n",
        "  }\n",
        ").reset_index(drop=False)\n",
        "\n",
        "df_status"
      ]
    },
    {
      "cell_type": "code",
      "execution_count": 176,
      "metadata": {},
      "outputs": [
        {
          "data": {
            "text/plain": [
              "[Text(0, 0, '785'),\n",
              " Text(0, 0, '509'),\n",
              " Text(0, 0, '443'),\n",
              " Text(0, 0, '214'),\n",
              " Text(0, 0, '70')]"
            ]
          },
          "execution_count": 176,
          "metadata": {},
          "output_type": "execute_result"
        },
        {
          "data": {
            "image/png": "[encoded data removed]",
            "text/plain": [
              "<Figure size 432x288 with 1 Axes>"
            ]
          },
          "metadata": {},
          "output_type": "display_data"
        }
      ],
      "source": [
        "sns.set_theme(style=\"darkgrid\")\n",
        "ax = sns.countplot(data=df, x=\"marital_status\", order=df.marital_status.value_counts().index)\n",
        "ax.bar_label(container=ax.containers[0])"
      ]
    },
    {
      "cell_type": "markdown",
      "metadata": {
        "id": "b023DeBr5sU0"
      },
      "source": [
        "## Correlacionamento dos dados:"
      ]
    },
    {
      "attachments": {},
      "cell_type": "markdown",
      "metadata": {},
      "source": [
        "- Qual é a relação de estado civil com número de filhos? Será que as pessoas casadas têm um maior número de filhos? \n",
        "- As pessoas gastam mais ou menos em nossa plataforma quando têm filhos?\n",
        "- Pessoas que têm um maior salário gastam mais? "
      ]
    },
    {
      "attachments": {},
      "cell_type": "markdown",
      "metadata": {},
      "source": [
        "#### Qual é a relação de estado civil com número de filhos? Será que as pessoas casadas têm um maior número de filhos?"
      ]
    },
    {
      "cell_type": "code",
      "execution_count": 130,
      "metadata": {},
      "outputs": [
        {
          "data": {
            "text/html": [
              "<div>\n",
              "<style scoped>\n",
              "    .dataframe tbody tr th:only-of-type {\n",
              "        vertical-align: middle;\n",
              "    }\n",
              "\n",
              "    .dataframe tbody tr th {\n",
              "        vertical-align: top;\n",
              "    }\n",
              "\n",
              "    .dataframe thead th {\n",
              "        text-align: right;\n",
              "    }\n",
              "</style>\n",
              "<table border=\"1\" class=\"dataframe\">\n",
              "  <thead>\n",
              "    <tr style=\"text-align: right;\">\n",
              "      <th></th>\n",
              "      <th>marital_status</th>\n",
              "      <th>count</th>\n",
              "      <th>mean</th>\n",
              "      <th>median</th>\n",
              "      <th>min</th>\n",
              "      <th>max</th>\n",
              "    </tr>\n",
              "  </thead>\n",
              "  <tbody>\n",
              "    <tr>\n",
              "      <th>0</th>\n",
              "      <td>Divorced</td>\n",
              "      <td>214</td>\n",
              "      <td>1.023364</td>\n",
              "      <td>1</td>\n",
              "      <td>0</td>\n",
              "      <td>3</td>\n",
              "    </tr>\n",
              "    <tr>\n",
              "      <th>1</th>\n",
              "      <td>Married</td>\n",
              "      <td>785</td>\n",
              "      <td>0.977070</td>\n",
              "      <td>1</td>\n",
              "      <td>0</td>\n",
              "      <td>3</td>\n",
              "    </tr>\n",
              "    <tr>\n",
              "      <th>2</th>\n",
              "      <td>Single</td>\n",
              "      <td>443</td>\n",
              "      <td>0.860045</td>\n",
              "      <td>1</td>\n",
              "      <td>0</td>\n",
              "      <td>3</td>\n",
              "    </tr>\n",
              "    <tr>\n",
              "      <th>3</th>\n",
              "      <td>Together</td>\n",
              "      <td>509</td>\n",
              "      <td>0.982318</td>\n",
              "      <td>1</td>\n",
              "      <td>0</td>\n",
              "      <td>3</td>\n",
              "    </tr>\n",
              "    <tr>\n",
              "      <th>4</th>\n",
              "      <td>Widow</td>\n",
              "      <td>70</td>\n",
              "      <td>0.842857</td>\n",
              "      <td>1</td>\n",
              "      <td>0</td>\n",
              "      <td>2</td>\n",
              "    </tr>\n",
              "  </tbody>\n",
              "</table>\n",
              "</div>"
            ],
            "text/plain": [
              "  marital_status  count      mean  median  min  max\n",
              "0       Divorced    214  1.023364       1    0    3\n",
              "1        Married    785  0.977070       1    0    3\n",
              "2         Single    443  0.860045       1    0    3\n",
              "3       Together    509  0.982318       1    0    3\n",
              "4          Widow     70  0.842857       1    0    2"
            ]
          },
          "execution_count": 130,
          "metadata": {},
          "output_type": "execute_result"
        }
      ],
      "source": [
        "marital_status_group = df.groupby('marital_status')['kids'].agg(['count', 'mean', 'median', 'min', 'max']).reset_index(drop=False)\n",
        "marital_status_group"
      ]
    },
    {
      "cell_type": "code",
      "execution_count": 113,
      "metadata": {},
      "outputs": [
        {
          "data": {
            "text/plain": [
              "Text(0, 0.5, 'Count of Children')"
            ]
          },
          "execution_count": 113,
          "metadata": {},
          "output_type": "execute_result"
        },
        {
          "data": {
            "image/png": "[encoded data removed]",
            "text/plain": [
              "<Figure size 432x288 with 1 Axes>"
            ]
          },
          "metadata": {},
          "output_type": "display_data"
        }
      ],
      "source": [
        "sns.set(style=\"darkgrid\")\n",
        "ax = sns.histplot(data=df, x='marital_status', hue='kids', multiple='stack', palette='Dark2_r')\n",
        "\n",
        "ax.set_title('Count of Children by Marital Status')\n",
        "ax.set_xlabel('Marital Status')\n",
        "ax.set_ylabel('Count of Children')"
      ]
    },
    {
      "attachments": {},
      "cell_type": "markdown",
      "metadata": {},
      "source": [
        "sns.boxplot(x='marital_status', y='kids', data=df)"
      ]
    },
    {
      "cell_type": "code",
      "execution_count": 120,
      "metadata": {},
      "outputs": [
        {
          "data": {
            "text/plain": [
              "<AxesSubplot:xlabel='marital_status', ylabel='kids'>"
            ]
          },
          "execution_count": 120,
          "metadata": {},
          "output_type": "execute_result"
        },
        {
          "data": {
            "image/png": "[encoded data removed]",
            "text/plain": [
              "<Figure size 432x288 with 1 Axes>"
            ]
          },
          "metadata": {},
          "output_type": "display_data"
        }
      ],
      "source": [
        "# Outra forma de analizar:\n",
        "sns.set(style=\"darkgrid\")\n",
        "sns.boxplot(x='marital_status', y='kids', data=df, palette='Dark2_r')"
      ]
    },
    {
      "attachments": {},
      "cell_type": "markdown",
      "metadata": {},
      "source": [
        "#### As pessoas gastam mais ou menos em nossa plataforma quando têm filhos?"
      ]
    },
    {
      "cell_type": "code",
      "execution_count": 131,
      "metadata": {},
      "outputs": [
        {
          "data": {
            "text/html": [
              "<div>\n",
              "<style scoped>\n",
              "    .dataframe tbody tr th:only-of-type {\n",
              "        vertical-align: middle;\n",
              "    }\n",
              "\n",
              "    .dataframe tbody tr th {\n",
              "        vertical-align: top;\n",
              "    }\n",
              "\n",
              "    .dataframe thead th {\n",
              "        text-align: right;\n",
              "    }\n",
              "</style>\n",
              "<table border=\"1\" class=\"dataframe\">\n",
              "  <thead>\n",
              "    <tr style=\"text-align: right;\">\n",
              "      <th></th>\n",
              "      <th>kids</th>\n",
              "      <th>count</th>\n",
              "      <th>mean</th>\n",
              "      <th>median</th>\n",
              "      <th>min</th>\n",
              "      <th>max</th>\n",
              "    </tr>\n",
              "  </thead>\n",
              "  <tbody>\n",
              "    <tr>\n",
              "      <th>0</th>\n",
              "      <td>0</td>\n",
              "      <td>567</td>\n",
              "      <td>1056.282187</td>\n",
              "      <td>1114</td>\n",
              "      <td>5</td>\n",
              "      <td>2491</td>\n",
              "    </tr>\n",
              "    <tr>\n",
              "      <th>1</th>\n",
              "      <td>1</td>\n",
              "      <td>1027</td>\n",
              "      <td>432.732230</td>\n",
              "      <td>265</td>\n",
              "      <td>4</td>\n",
              "      <td>2036</td>\n",
              "    </tr>\n",
              "    <tr>\n",
              "      <th>2</th>\n",
              "      <td>2</td>\n",
              "      <td>382</td>\n",
              "      <td>223.267016</td>\n",
              "      <td>84</td>\n",
              "      <td>8</td>\n",
              "      <td>1627</td>\n",
              "    </tr>\n",
              "    <tr>\n",
              "      <th>3</th>\n",
              "      <td>3</td>\n",
              "      <td>45</td>\n",
              "      <td>240.044444</td>\n",
              "      <td>62</td>\n",
              "      <td>6</td>\n",
              "      <td>1601</td>\n",
              "    </tr>\n",
              "  </tbody>\n",
              "</table>\n",
              "</div>"
            ],
            "text/plain": [
              "   kids  count         mean  median  min   max\n",
              "0     0    567  1056.282187    1114    5  2491\n",
              "1     1   1027   432.732230     265    4  2036\n",
              "2     2    382   223.267016      84    8  1627\n",
              "3     3     45   240.044444      62    6  1601"
            ]
          },
          "execution_count": 131,
          "metadata": {},
          "output_type": "execute_result"
        }
      ],
      "source": [
        "kids_vs_expenses = df.groupby('kids')['expenses'].agg(['count', 'mean', 'median', 'min', 'max']).reset_index(drop=False)\n",
        "kids_vs_expenses"
      ]
    },
    {
      "cell_type": "code",
      "execution_count": 136,
      "metadata": {},
      "outputs": [
        {
          "data": {
            "text/plain": [
              "Text(0, 0.5, 'Count of Children')"
            ]
          },
          "execution_count": 136,
          "metadata": {},
          "output_type": "execute_result"
        },
        {
          "data": {
            "image/png": "[encoded data removed]",
            "text/plain": [
              "<Figure size 432x288 with 1 Axes>"
            ]
          },
          "metadata": {},
          "output_type": "display_data"
        }
      ],
      "source": [
        "sns.set(style=\"darkgrid\")\n",
        "ax = sns.histplot(data=df, x='expenses', hue='kids', multiple='stack', palette='Dark2_r')\n",
        "\n",
        "ax.set_title('Count of Expenses by Children')\n",
        "ax.set_xlabel('Expenses')\n",
        "ax.set_ylabel('Count of Children')"
      ]
    },
    {
      "cell_type": "code",
      "execution_count": 138,
      "metadata": {},
      "outputs": [
        {
          "data": {
            "text/plain": [
              "<AxesSubplot:xlabel='kids', ylabel='expenses'>"
            ]
          },
          "execution_count": 138,
          "metadata": {},
          "output_type": "execute_result"
        },
        {
          "data": {
            "image/png": "[encoded data removed]",
            "text/plain": [
              "<Figure size 432x288 with 1 Axes>"
            ]
          },
          "metadata": {},
          "output_type": "display_data"
        }
      ],
      "source": [
        "# Outra forma de analizar:\n",
        "sns.set(style=\"darkgrid\")\n",
        "sns.boxplot(x='kids', y='expenses', data=df, palette='Dark2_r')"
      ]
    },
    {
      "attachments": {},
      "cell_type": "markdown",
      "metadata": {},
      "source": [
        "#### Pessoas que têm um maior salário gastam mais? "
      ]
    },
    {
      "cell_type": "code",
      "execution_count": 143,
      "metadata": {},
      "outputs": [],
      "source": [
        "df['Relação Gastos/Salário'] = df['expenses'] / df['Income']"
      ]
    },
    {
      "cell_type": "code",
      "execution_count": 150,
      "metadata": {},
      "outputs": [
        {
          "data": {
            "image/png": "[encoded data removed]",
            "text/plain": [
              "<Figure size 432x288 with 1 Axes>"
            ]
          },
          "metadata": {},
          "output_type": "display_data"
        }
      ],
      "source": [
        "plt.scatter(df['Income'], df['expenses'])\n",
        "plt.xlabel('Income')\n",
        "plt.ylabel('expenses')\n",
        "plt.show()"
      ]
    },
    {
      "attachments": {},
      "cell_type": "markdown",
      "metadata": {},
      "source": [
        "## Outras análises:"
      ]
    },
    {
      "cell_type": "code",
      "execution_count": 33,
      "metadata": {},
      "outputs": [
        {
          "name": "stdout",
          "output_type": "stream",
          "text": [
            "Média:  51687.2587827808\n",
            "Moda:  7500.0\n",
            "Mediana:  51412.0\n"
          ]
        }
      ],
      "source": [
        "media = df.Income.mean()\n",
        "\n",
        "# Calcula a moda\n",
        "moda = df.Income.mode()[0]\n",
        "\n",
        "# Calcula a mediana\n",
        "mediana = df.Income.median()\n",
        "\n",
        "# Imprime os resultados\n",
        "print('Média: ', media)\n",
        "print('Moda: ', moda)\n",
        "print('Mediana: ', mediana)"
      ]
    }
  ],
  "metadata": {
    "colab": {
      "provenance": []
    },
    "kernelspec": {
      "display_name": "Python 3",
      "language": "python",
      "name": "python3"
    },
    "language_info": {
      "codemirror_mode": {
        "name": "ipython",
        "version": 3
      },
      "file_extension": ".py",
      "mimetype": "text/x-python",
      "name": "python",
      "nbconvert_exporter": "python",
      "pygments_lexer": "ipython3",
      "version": "3.9.4"
    },
    "vscode": {
      "interpreter": {
        "hash": "ea9df842d0a85fc3cbb02a00d2367e4c188b942a521bb78c65f8e6956d67a35c"
      }
    }
  },
  "nbformat": 4,
  "nbformat_minor": 0
}
